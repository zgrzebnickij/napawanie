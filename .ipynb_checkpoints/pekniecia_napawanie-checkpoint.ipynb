{
 "cells": [
  {
   "cell_type": "code",
   "execution_count": 1,
   "metadata": {
    "scrolled": false
   },
   "outputs": [
    {
     "name": "stderr",
     "output_type": "stream",
     "text": [
      "Using TensorFlow backend.\n"
     ]
    }
   ],
   "source": [
    "import keras\n",
    "import numpy as np\n",
    "import matplotlib.pyplot as plt\n",
    "import os\n",
    "import random\n",
    "import h5py\n",
    "import itertools \n",
    "from sklearn.metrics import confusion_matrix\n",
    "from sklearn.preprocessing import LabelEncoder\n",
    "from  keras.layers import Activation, Dense, Dropout, Conv2D, \\\n",
    "                         Flatten, MaxPooling2D\n",
    "from keras.models import Sequential\n"
   ]
  },
  {
   "cell_type": "code",
   "execution_count": 2,
   "metadata": {},
   "outputs": [
    {
     "name": "stdout",
     "output_type": "stream",
     "text": [
      "870 2 done\n"
     ]
    }
   ],
   "source": [
    "D=[]\n",
    "check=[]\n",
    "label = []\n",
    "for folder in [\"128/ok\",\"128/nok\"]:\n",
    "    i = 0\n",
    "    for file in os.listdir(folder):\n",
    "        if(i>900):\n",
    "            continue\n",
    "        if(\".npy\" in file):\n",
    "            spectogram = np.load(folder+\"/\"+file)\n",
    "            if spectogram.shape != (128, 128): continue\n",
    "            D.append((spectogram, folder))\n",
    "            label.append(folder)\n",
    "            check.append(spectogram) #może tu normalizować\n",
    "            i+=1\n",
    "print(len(D),len(D[0]),\"done\")"
   ]
  },
  {
   "cell_type": "code",
   "execution_count": 3,
   "metadata": {},
   "outputs": [],
   "source": [
    "def normalization(data,x_max,x_min):\n",
    "    diff = x_max-x_min\n",
    "    for rows in range(0,len(data)):\n",
    "        for cols in range(0,len(data[0])):\n",
    "            data[rows][cols] = (data[rows][cols]-x_min)/diff \n",
    "    return data"
   ]
  },
  {
   "cell_type": "code",
   "execution_count": 4,
   "metadata": {
    "scrolled": false
   },
   "outputs": [
    {
     "name": "stdout",
     "output_type": "stream",
     "text": [
      "5.472159918562615e-09 0.0005460481599403724\n"
     ]
    }
   ],
   "source": [
    "dataset_min = np.amin(check)\n",
    "dataset_max = np.amax(check) #jak teraz znormalizuje to jak potem to zrobić?\n",
    "print(dataset_min,dataset_max)\n",
    "dataset_normalized = []\n",
    "for data in D:\n",
    "    dataset_normalized.append([normalization(data[0],dataset_max,dataset_min),data[1]])"
   ]
  },
  {
   "cell_type": "code",
   "execution_count": 5,
   "metadata": {},
   "outputs": [
    {
     "data": {
      "image/png": "[encoded data removed]",
      "text/plain": [
       "<Figure size 432x288 with 1 Axes>"
      ]
     },
     "metadata": {},
     "output_type": "display_data"
    }
   ],
   "source": [
    "plt.hist(label)  # arguments are passed to np.histogram\n",
    "plt.title(\"Labels\")\n",
    "plt.show()"
   ]
  },
  {
   "cell_type": "code",
   "execution_count": 6,
   "metadata": {},
   "outputs": [
    {
     "data": {
      "image/png": "[encoded data removed]",
      "text/plain": [
       "<Figure size 432x288 with 1 Axes>"
      ]
     },
     "metadata": {},
     "output_type": "display_data"
    }
   ],
   "source": [
    "plt.hist([np.amax(data_x[0]) for data_x in dataset_normalized])  # arguments are passed to np.histogram\n",
    "plt.title(\"Histogram with data_maximum \")\n",
    "plt.show()"
   ]
  },
  {
   "cell_type": "code",
   "execution_count": 8,
   "metadata": {},
   "outputs": [
    {
     "name": "stdout",
     "output_type": "stream",
     "text": [
      "870\n",
      "2\n",
      "128\n",
      "128\n",
      "[0 1 0 0 0 0 1 1 0 1 0 0 0 0 1 0 1 0 0 1 0 1 1 0 1 0 0 0 1 0 0 0 0 0 0 0 0\n",
      " 0 0 0 0 1 0 0 0 0 0 0 0 0 0 1 0 0 0 0 0 0 0 0 0 0 0 0 0 0 0 0 0 1]\n"
     ]
    }
   ],
   "source": [
    "dataset_array = keras.utils.normalize(check,axis=-1,order=2)\n",
    "dataset = dataset_normalized\n",
    "\n",
    "print(len(D))\n",
    "print(len(D[0]))\n",
    "print(len(D[0][0]))\n",
    "print(len(D[0][0][0]))\n",
    "random.shuffle(dataset)\n",
    "\n",
    "train = dataset[:800]\n",
    "test = dataset[800:]\n",
    "\n",
    "x_train, y_train = zip(*train)\n",
    "x_test, y_test = zip(*test)\n",
    "\n",
    "# Reshape for CNN input\n",
    "x_train = np.array([x.reshape( (128, 128, 1) ) for x in x_train])\n",
    "x_test = np.array([x.reshape( (128, 128, 1) ) for x in x_test])\n",
    "\n",
    "# One-Hot encoding for classes\n",
    "encoder = LabelEncoder()\n",
    "encoder.fit(y_train)\n",
    "y_train = encoder.transform(y_train)\n",
    "y_test = encoder.transform(y_test)\n",
    "print(y_test)"
   ]
  },
  {
   "cell_type": "code",
   "execution_count": 8,
   "metadata": {},
   "outputs": [],
   "source": [
    "Tensor_board = keras.callbacks.TensorBoard(log_dir='./logs', write_images=True)\n",
    "filepath=\"weights-improvement.hdf5\"\n",
    "checkpoint = keras.callbacks.ModelCheckpoint(filepath,monitor=\"acc\", verbose=1, save_best_only=True)\n",
    "callbacks_list = [checkpoint,Tensor_board]"
   ]
  },
  {
   "cell_type": "code",
   "execution_count": null,
   "metadata": {},
   "outputs": [],
   "source": [
    "#architekrura 128x32\n",
    "model = Sequential()\n",
    "input_shape=(128, 32, 1)\n",
    "\n",
    "model.add(Conv2D(24, (5, 5), strides=(1, 1), input_shape=input_shape))\n",
    "model.add(MaxPooling2D((4, 2), strides=(4, 2)))\n",
    "model.add(Activation('relu'))\n",
    "\n",
    "model.add(Conv2D(48, (5, 5), padding=\"valid\"))\n",
    "model.add(MaxPooling2D((4, 2), strides=(4, 2)))\n",
    "model.add(Activation('relu'))\n",
    "\n",
    "model.add(Conv2D(48, (5, 5), padding=\"valid\"))\n",
    "model.add(Activation('relu'))\n",
    "\n",
    "model.add(Flatten())\n",
    "model.add(Dropout(rate=0.5))\n",
    "\n",
    "model.add(Dense(64))\n",
    "model.add(Activation('relu'))\n",
    "model.add(Dropout(rate=0.5))\n",
    "\n",
    "model.add(Dense(1, activation='sigmoid'))"
   ]
  },
  {
   "cell_type": "code",
   "execution_count": 9,
   "metadata": {},
   "outputs": [],
   "source": [
    "#architektura 128x128\n",
    "model = Sequential()\n",
    "input_shape=(128, 128, 1)\n",
    "\n",
    "model.add(Conv2D(24, (5, 5), strides=(1, 1), input_shape=input_shape))\n",
    "model.add(MaxPooling2D((4, 2), strides=(4, 2)))\n",
    "model.add(Activation('relu'))\n",
    "\n",
    "model.add(Conv2D(48, (5, 5), padding=\"valid\"))\n",
    "model.add(MaxPooling2D((4, 2), strides=(4, 2)))\n",
    "model.add(Activation('relu'))\n",
    "\n",
    "model.add(Conv2D(48, (5, 5), padding=\"valid\"))\n",
    "model.add(Activation('relu'))\n",
    "\n",
    "model.add(Flatten())\n",
    "model.add(Dropout(rate=0.5))\n",
    "\n",
    "model.add(Dense(128))\n",
    "model.add(Activation('relu'))\n",
    "model.add(Dropout(rate=0.5))\n",
    "\n",
    "model.add(Dense(1, activation='sigmoid'))"
   ]
  },
  {
   "cell_type": "code",
   "execution_count": 10,
   "metadata": {},
   "outputs": [],
   "source": [
    "model.load_weights(\"weights-improvement_100model.hdf5\")"
   ]
  },
  {
   "cell_type": "code",
   "execution_count": 11,
   "metadata": {},
   "outputs": [
    {
     "name": "stdout",
     "output_type": "stream",
     "text": [
      "Epoch 1/50\n",
      "1000/1000 [==============================] - 53s 53ms/step - loss: 0.5705 - acc: 0.7610\n",
      "\n",
      "Epoch 00001: acc improved from -inf to 0.76100, saving model to weights-improvement.hdf5\n",
      "Epoch 2/50\n",
      "1000/1000 [==============================] - 49s 49ms/step - loss: 0.4546 - acc: 0.7620\n",
      "\n",
      "Epoch 00002: acc improved from 0.76100 to 0.76200, saving model to weights-improvement.hdf5\n",
      "Epoch 3/50\n",
      "1000/1000 [==============================] - 50s 50ms/step - loss: 0.4198 - acc: 0.7390\n",
      "\n",
      "Epoch 00003: acc did not improve from 0.76200\n",
      "Epoch 4/50\n",
      "1000/1000 [==============================] - 51s 51ms/step - loss: 0.3919 - acc: 0.7370\n",
      "\n",
      "Epoch 00004: acc did not improve from 0.76200\n",
      "Epoch 5/50\n",
      "1000/1000 [==============================] - 51s 51ms/step - loss: 0.3567 - acc: 0.7950\n",
      "\n",
      "Epoch 00005: acc improved from 0.76200 to 0.79500, saving model to weights-improvement.hdf5\n",
      "Epoch 6/50\n",
      "1000/1000 [==============================] - 50s 50ms/step - loss: 0.3273 - acc: 0.8500\n",
      "\n",
      "Epoch 00006: acc improved from 0.79500 to 0.85000, saving model to weights-improvement.hdf5\n",
      "Epoch 7/50\n",
      "1000/1000 [==============================] - 56s 56ms/step - loss: 0.3025 - acc: 0.8650\n",
      "\n",
      "Epoch 00007: acc improved from 0.85000 to 0.86500, saving model to weights-improvement.hdf5\n",
      "Epoch 8/50\n",
      "1000/1000 [==============================] - 56s 56ms/step - loss: 0.2633 - acc: 0.8900\n",
      "\n",
      "Epoch 00008: acc improved from 0.86500 to 0.89000, saving model to weights-improvement.hdf5\n",
      "Epoch 9/50\n",
      "1000/1000 [==============================] - 58s 58ms/step - loss: 0.3037 - acc: 0.8520\n",
      "\n",
      "Epoch 00009: acc did not improve from 0.89000\n",
      "Epoch 10/50\n",
      "1000/1000 [==============================] - 53s 53ms/step - loss: 0.2967 - acc: 0.8510\n",
      "\n",
      "Epoch 00010: acc did not improve from 0.89000\n",
      "Epoch 11/50\n",
      "1000/1000 [==============================] - 53s 53ms/step - loss: 0.2789 - acc: 0.9080\n",
      "\n",
      "Epoch 00011: acc improved from 0.89000 to 0.90800, saving model to weights-improvement.hdf5\n",
      "Epoch 12/50\n",
      "1000/1000 [==============================] - 53s 53ms/step - loss: 0.2471 - acc: 0.9030\n",
      "\n",
      "Epoch 00012: acc did not improve from 0.90800\n",
      "Epoch 13/50\n",
      "1000/1000 [==============================] - 51s 51ms/step - loss: 0.2092 - acc: 0.9190\n",
      "\n",
      "Epoch 00013: acc improved from 0.90800 to 0.91900, saving model to weights-improvement.hdf5\n",
      "Epoch 14/50\n",
      "1000/1000 [==============================] - 53s 53ms/step - loss: 0.2310 - acc: 0.9010\n",
      "\n",
      "Epoch 00014: acc did not improve from 0.91900\n",
      "Epoch 15/50\n",
      "1000/1000 [==============================] - 54s 54ms/step - loss: 0.2364 - acc: 0.8820\n",
      "\n",
      "Epoch 00015: acc did not improve from 0.91900\n",
      "Epoch 16/50\n",
      "1000/1000 [==============================] - 53s 53ms/step - loss: 0.2283 - acc: 0.9110\n",
      "\n",
      "Epoch 00016: acc did not improve from 0.91900\n",
      "Epoch 17/50\n",
      "1000/1000 [==============================] - 54s 54ms/step - loss: 0.1839 - acc: 0.9240\n",
      "\n",
      "Epoch 00017: acc improved from 0.91900 to 0.92400, saving model to weights-improvement.hdf5\n",
      "Epoch 18/50\n",
      "1000/1000 [==============================] - 52s 52ms/step - loss: 0.1662 - acc: 0.9370\n",
      "\n",
      "Epoch 00018: acc improved from 0.92400 to 0.93700, saving model to weights-improvement.hdf5\n",
      "Epoch 19/50\n",
      "1000/1000 [==============================] - 51s 51ms/step - loss: 0.1491 - acc: 0.9450\n",
      "\n",
      "Epoch 00019: acc improved from 0.93700 to 0.94500, saving model to weights-improvement.hdf5\n",
      "Epoch 20/50\n",
      "1000/1000 [==============================] - 53s 53ms/step - loss: 0.1263 - acc: 0.9520\n",
      "\n",
      "Epoch 00020: acc improved from 0.94500 to 0.95200, saving model to weights-improvement.hdf5\n",
      "Epoch 21/50\n",
      "1000/1000 [==============================] - 52s 52ms/step - loss: 0.1157 - acc: 0.9640\n",
      "\n",
      "Epoch 00021: acc improved from 0.95200 to 0.96400, saving model to weights-improvement.hdf5\n",
      "Epoch 22/50\n",
      "1000/1000 [==============================] - 54s 54ms/step - loss: 0.0941 - acc: 0.9660\n",
      "\n",
      "Epoch 00022: acc improved from 0.96400 to 0.96600, saving model to weights-improvement.hdf5\n",
      "Epoch 23/50\n",
      "1000/1000 [==============================] - 54s 54ms/step - loss: 0.0841 - acc: 0.9700\n",
      "\n",
      "Epoch 00023: acc improved from 0.96600 to 0.97000, saving model to weights-improvement.hdf5\n",
      "Epoch 24/50\n",
      "1000/1000 [==============================] - 54s 54ms/step - loss: 0.0854 - acc: 0.9750\n",
      "\n",
      "Epoch 00024: acc improved from 0.97000 to 0.97500, saving model to weights-improvement.hdf5\n",
      "Epoch 25/50\n",
      "1000/1000 [==============================] - 56s 56ms/step - loss: 0.0855 - acc: 0.9760\n",
      "\n",
      "Epoch 00025: acc improved from 0.97500 to 0.97600, saving model to weights-improvement.hdf5\n",
      "Epoch 26/50\n",
      "1000/1000 [==============================] - 59s 59ms/step - loss: 0.0639 - acc: 0.9810\n",
      "\n",
      "Epoch 00026: acc improved from 0.97600 to 0.98100, saving model to weights-improvement.hdf5\n",
      "Epoch 27/50\n",
      "1000/1000 [==============================] - 47s 47ms/step - loss: 0.0511 - acc: 0.9870\n",
      "\n",
      "Epoch 00027: acc improved from 0.98100 to 0.98700, saving model to weights-improvement.hdf5\n",
      "Epoch 28/50\n",
      "1000/1000 [==============================] - 45s 45ms/step - loss: 0.0503 - acc: 0.9800\n",
      "\n",
      "Epoch 00028: acc did not improve from 0.98700\n",
      "Epoch 29/50\n",
      "1000/1000 [==============================] - 50s 50ms/step - loss: 0.0373 - acc: 0.9870\n",
      "\n",
      "Epoch 00029: acc improved from 0.98700 to 0.98700, saving model to weights-improvement.hdf5\n",
      "Epoch 30/50\n",
      "1000/1000 [==============================] - 51s 51ms/step - loss: 0.0443 - acc: 0.9860\n",
      "\n",
      "Epoch 00030: acc did not improve from 0.98700\n",
      "Epoch 31/50\n",
      "1000/1000 [==============================] - 49s 49ms/step - loss: 0.0385 - acc: 0.9860\n",
      "\n",
      "Epoch 00031: acc did not improve from 0.98700\n",
      "Epoch 32/50\n",
      "1000/1000 [==============================] - 53s 53ms/step - loss: 0.0345 - acc: 0.9910\n",
      "\n",
      "Epoch 00032: acc improved from 0.98700 to 0.99100, saving model to weights-improvement.hdf5\n",
      "Epoch 33/50\n",
      "1000/1000 [==============================] - 53s 53ms/step - loss: 0.0296 - acc: 0.9900\n",
      "\n",
      "Epoch 00033: acc did not improve from 0.99100\n",
      "Epoch 34/50\n",
      "1000/1000 [==============================] - 51s 51ms/step - loss: 0.0396 - acc: 0.9860\n",
      "\n",
      "Epoch 00034: acc did not improve from 0.99100\n",
      "Epoch 35/50\n",
      "1000/1000 [==============================] - 47s 47ms/step - loss: 0.0243 - acc: 0.9930\n",
      "\n",
      "Epoch 00035: acc improved from 0.99100 to 0.99300, saving model to weights-improvement.hdf5\n",
      "Epoch 36/50\n",
      "1000/1000 [==============================] - 53s 53ms/step - loss: 0.0202 - acc: 0.9930\n",
      "\n",
      "Epoch 00036: acc did not improve from 0.99300\n",
      "Epoch 37/50\n",
      "1000/1000 [==============================] - 50s 50ms/step - loss: 0.0190 - acc: 0.9940\n",
      "\n",
      "Epoch 00037: acc improved from 0.99300 to 0.99400, saving model to weights-improvement.hdf5\n",
      "Epoch 38/50\n",
      "1000/1000 [==============================] - 55s 55ms/step - loss: 0.0178 - acc: 0.9950\n",
      "\n",
      "Epoch 00038: acc improved from 0.99400 to 0.99500, saving model to weights-improvement.hdf5\n",
      "Epoch 39/50\n",
      "1000/1000 [==============================] - 54s 54ms/step - loss: 0.0146 - acc: 0.9970\n",
      "\n",
      "Epoch 00039: acc improved from 0.99500 to 0.99700, saving model to weights-improvement.hdf5\n",
      "Epoch 40/50\n",
      "1000/1000 [==============================] - 52s 52ms/step - loss: 0.0168 - acc: 0.9950\n",
      "\n",
      "Epoch 00040: acc did not improve from 0.99700\n",
      "Epoch 41/50\n",
      "1000/1000 [==============================] - 52s 52ms/step - loss: 0.0105 - acc: 0.9970\n",
      "\n",
      "Epoch 00041: acc did not improve from 0.99700\n",
      "Epoch 42/50\n",
      "1000/1000 [==============================] - 48s 48ms/step - loss: 0.0076 - acc: 1.0000\n",
      "\n",
      "Epoch 00042: acc improved from 0.99700 to 1.00000, saving model to weights-improvement.hdf5\n",
      "Epoch 43/50\n",
      "1000/1000 [==============================] - 44s 44ms/step - loss: 0.0107 - acc: 0.9960\n",
      "\n",
      "Epoch 00043: acc did not improve from 1.00000\n",
      "Epoch 44/50\n",
      "1000/1000 [==============================] - 49s 49ms/step - loss: 0.0118 - acc: 0.9950\n",
      "\n",
      "Epoch 00044: acc did not improve from 1.00000\n",
      "Epoch 45/50\n",
      "1000/1000 [==============================] - 53s 53ms/step - loss: 0.0119 - acc: 0.9940\n",
      "\n",
      "Epoch 00045: acc did not improve from 1.00000\n",
      "Epoch 46/50\n",
      "1000/1000 [==============================] - 48s 48ms/step - loss: 0.0087 - acc: 0.9980\n",
      "\n",
      "Epoch 00046: acc did not improve from 1.00000\n",
      "Epoch 47/50\n",
      "1000/1000 [==============================] - 52s 52ms/step - loss: 0.0115 - acc: 0.9960\n",
      "\n",
      "Epoch 00047: acc did not improve from 1.00000\n",
      "Epoch 48/50\n",
      "1000/1000 [==============================] - 53s 53ms/step - loss: 0.0080 - acc: 0.9980\n"
     ]
    },
    {
     "name": "stdout",
     "output_type": "stream",
     "text": [
      "\n",
      "Epoch 00048: acc did not improve from 1.00000\n",
      "Epoch 49/50\n",
      "1000/1000 [==============================] - 51s 51ms/step - loss: 0.0084 - acc: 0.9980\n",
      "\n",
      "Epoch 00049: acc did not improve from 1.00000\n",
      "Epoch 50/50\n",
      "1000/1000 [==============================] - 47s 47ms/step - loss: 0.0089 - acc: 0.9970\n",
      "\n",
      "Epoch 00050: acc did not improve from 1.00000\n",
      "96/96 [==============================] - 1s 14ms/step\n",
      "Test loss: 0.08551277965307236\n",
      "Test accuracy: 0.9583333134651184\n"
     ]
    }
   ],
   "source": [
    "optimazerAdam = keras.optimizers.Adam(lr=0.0001, epsilon=None, decay=0.0, amsgrad=False)\n",
    "\n",
    "model.compile(loss='binary_crossentropy',\n",
    "              optimizer=\"Adam\",\n",
    "              metrics=['acc'])#accuracy\n",
    "\n",
    "history = model.fit(x_train, y_train,\n",
    "          epochs=50,\n",
    "          batch_size=128,\n",
    "          callbacks = callbacks_list)\n",
    "\n",
    "score = model.evaluate(x_test, y_test, batch_size=128)\n",
    "print('Test loss:', score[0])\n",
    "print('Test accuracy:', score[1])\n",
    "## tensorboard --logdir C:\\Users\\Jakub\\praca_inzynierska\\Scissors_falling\\logs --port=8080"
   ]
  },
  {
   "cell_type": "code",
   "execution_count": null,
   "metadata": {},
   "outputs": [],
   "source": [
    "print(history.history)"
   ]
  },
  {
   "cell_type": "code",
   "execution_count": null,
   "metadata": {},
   "outputs": [],
   "source": [
    "model.save_weights(\"model_128_7ms.h5\")\n",
    "print(\"Saved model to disk\")"
   ]
  },
  {
   "cell_type": "code",
   "execution_count": 11,
   "metadata": {},
   "outputs": [],
   "source": [
    "def plot_confusion_matrix(cm, classes,\n",
    "                          normalize=False,\n",
    "                          title='Confusion matrix',\n",
    "                          cmap=plt.cm.Blues):\n",
    "    \"\"\"\n",
    "    This function prints and plots the confusion matrix.\n",
    "    Normalization can be applied by setting `normalize=True`.\n",
    "    \"\"\"\n",
    "    if normalize:\n",
    "        cm = cm.astype('float') / cm.sum(axis=1)[:, np.newaxis]\n",
    "        print(\"Normalized confusion matrix\")\n",
    "    else:\n",
    "        print('Confusion matrix, without normalization')\n",
    "    plt.imshow(cm, interpolation='nearest', cmap=cmap)\n",
    "    plt.title(title)\n",
    "    plt.colorbar()\n",
    "    tick_marks = np.arange(len(classes))\n",
    "    plt.xticks(tick_marks, classes, rotation=45)\n",
    "    plt.yticks(tick_marks, classes)\n",
    "\n",
    "    fmt = '.2f' if normalize else 'd'\n",
    "    thresh = cm.max() / 2.\n",
    "    for i, j in itertools.product(range(cm.shape[0]), range(cm.shape[1])):\n",
    "        plt.text(j, i, format(cm[i, j], fmt),\n",
    "                 horizontalalignment=\"center\",\n",
    "                 color=\"white\" if cm[i, j] > thresh else \"black\")\n",
    "\n",
    "    plt.ylabel('True label')\n",
    "    plt.xlabel('Predicted label')\n",
    "    plt.tight_layout()"
   ]
  },
  {
   "cell_type": "code",
   "execution_count": 12,
   "metadata": {},
   "outputs": [
    {
     "data": {
      "image/png": "[encoded data removed]",
      "text/plain": [
       "<Figure size 432x288 with 1 Axes>"
      ]
     },
     "metadata": {},
     "output_type": "display_data"
    },
    {
     "name": "stdout",
     "output_type": "stream",
     "text": [
      "[[537  88]\n",
      " [ 31 144]]\n",
      "Confusion matrix, without normalization\n",
      "Recall/Czułość: 0.945 Precision/Precyzja: 0.859 F-Score: 0.900\n"
     ]
    },
    {
     "data": {
      "image/png": "[encoded data removed]",
      "text/plain": [
       "<Figure size 432x288 with 2 Axes>"
      ]
     },
     "metadata": {},
     "output_type": "display_data"
    }
   ],
   "source": [
    "prediction = []\n",
    "prediction_label =[]\n",
    "prediction_predicted = []\n",
    "for i in range(0,len(y_train)):\n",
    "    prediction.append(model.predict(x_train[i].reshape(1,128,128,1))[0][0])\n",
    "    prediction_label.append(y_train[i])\n",
    "    prediction_predicted.append(round(prediction[i]))\n",
    "    \n",
    "        \n",
    "#print(prediction,prediction_label)\n",
    "#for check_item in dataset_normalized:\n",
    "#   prediction.append(model.predict(check_item[0].reshape(1,128,128,1))[0][0])\n",
    "#   prediction_label.append(check_item[1])\n",
    "#    if(prediction[-1]>0.5):\n",
    "#       prediction_predicted.append(\"128_7ms/ok\")\n",
    "#    else:\n",
    "#        prediction_predicted.append(\"128_7ms/nok\")\n",
    "        \n",
    "plt.hist(prediction)  # arguments are passed to np.histogram\n",
    "plt.title(\"Prediction\")\n",
    "plt.show()\n",
    "matrix = confusion_matrix(y_pred=prediction_predicted,y_true=prediction_label)\n",
    "print(matrix)\n",
    "plt.figure()\n",
    "plot_confusion_matrix(matrix, classes=[\"Pęknięcie\",'Brak pęknięcia'],\n",
    "                      title='Confusion matrix, without normalization')\n",
    "recall = (matrix[0][0])/(matrix[0][0]+matrix[1][0])\n",
    "precision = (matrix[0][0])/(matrix[0][0]+matrix[0][1])\n",
    "score = 2/((1/recall) + (1/precision))\n",
    "print(\"Recall/Czułość: {0:0.3f}\".format(recall),\"Precision/Precyzja: {0:0.3f}\".format(precision),\"F-Score: {0:0.3f}\".format(score))"
   ]
  },
  {
   "cell_type": "code",
   "execution_count": null,
   "metadata": {},
   "outputs": [],
   "source": []
  },
  {
   "cell_type": "code",
   "execution_count": null,
   "metadata": {},
   "outputs": [],
   "source": []
  }
 ],
 "metadata": {
  "kernelspec": {
   "display_name": "Python 3",
   "language": "python",
   "name": "python3"
  },
  "language_info": {
   "codemirror_mode": {
    "name": "ipython",
    "version": 3
   },
   "file_extension": ".py",
   "mimetype": "text/x-python",
   "name": "python",
   "nbconvert_exporter": "python",
   "pygments_lexer": "ipython3",
   "version": "3.6.5"
  }
 },
 "nbformat": 4,
 "nbformat_minor": 2
}
