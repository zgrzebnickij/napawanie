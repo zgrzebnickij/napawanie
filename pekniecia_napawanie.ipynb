{
 "cells": [
  {
   "cell_type": "code",
   "execution_count": 1,
   "metadata": {
    "scrolled": false
   },
   "outputs": [
    {
     "name": "stderr",
     "output_type": "stream",
     "text": [
      "Using TensorFlow backend.\n"
     ]
    }
   ],
   "source": [
    "import keras\n",
    "import numpy as np\n",
    "import matplotlib.pyplot as plt\n",
    "import os\n",
    "import random\n",
    "import h5py\n",
    "import itertools \n",
    "from sklearn.metrics import confusion_matrix\n",
    "from sklearn.preprocessing import LabelEncoder\n",
    "from  keras.layers import Activation, Dense, Dropout, Conv2D, \\\n",
    "                         Flatten, MaxPooling2D\n",
    "from keras.models import Sequential\n"
   ]
  },
  {
   "cell_type": "code",
   "execution_count": 9,
   "metadata": {},
   "outputs": [
    {
     "name": "stdout",
     "output_type": "stream",
     "text": [
      "5632 2 done\n"
     ]
    }
   ],
   "source": [
    "D=[]\n",
    "check=[]\n",
    "label = []\n",
    "for folder in [\"32_7ms_noise/ok\",\"32_7ms_noise/nok\"]:\n",
    "    i = 0\n",
    "    for file in os.listdir(folder):\n",
    "        if(\".npy\" in file):\n",
    "            spectogram = np.load(folder+\"/\"+file)\n",
    "            if spectogram.shape != (96, 32): continue\n",
    "            D.append((spectogram, folder))\n",
    "            label.append(folder)\n",
    "            check.append(spectogram) #może tu normalizować\n",
    "            i+=1\n",
    "print(len(D),len(D[0]),\"done\")"
   ]
  },
  {
   "cell_type": "code",
   "execution_count": 15,
   "metadata": {
    "scrolled": true
   },
   "outputs": [
    {
     "name": "stdout",
     "output_type": "stream",
     "text": [
      "574 2\n",
      "5058 2\n",
      "1574 2 done\n"
     ]
    }
   ],
   "source": [
    "D=[]\n",
    "D_ok = []\n",
    "D_nok = []\n",
    "check=[]\n",
    "label = []\n",
    "for folder in [\"32_7ms_noise/ok\",\"32_7ms_noise/nok\"]:\n",
    "    i = 0\n",
    "    for file in os.listdir(folder):\n",
    "        if(\".npy\" in file):\n",
    "            spectogram = np.load(folder+\"/\"+file)\n",
    "            if spectogram.shape != (96, 32): continue\n",
    "            if(folder == \"32_7ms_noise/ok\"):\n",
    "                D_ok.append((spectogram, folder))\n",
    "                label.append(folder)\n",
    "                check.append(spectogram) #może tu normalizować\n",
    "                i+=1\n",
    "            else:\n",
    "                D_nok.append((spectogram, folder))\n",
    "                label.append(folder)\n",
    "                check.append(spectogram) #może tu normalizować\n",
    "                i+=1\n",
    "random.shuffle(D_ok)\n",
    "D = D_ok[:1000]\n",
    "{D.append(x) for x in D_nok}\n",
    "print(len(D_nok),len(D_nok[0]))\n",
    "print(len(D_ok),len(D_ok[0]))\n",
    "print(len(D),len(D[0]),\"done\")"
   ]
  },
  {
   "cell_type": "code",
   "execution_count": 16,
   "metadata": {},
   "outputs": [],
   "source": [
    "def normalization(data,x_max,x_min):\n",
    "    diff = x_max-x_min\n",
    "    for rows in range(0,len(data)):\n",
    "        for cols in range(0,len(data[0])):\n",
    "            data[rows][cols] = (data[rows][cols]-x_min)/diff \n",
    "    return data"
   ]
  },
  {
   "cell_type": "code",
   "execution_count": 17,
   "metadata": {
    "scrolled": false
   },
   "outputs": [
    {
     "name": "stdout",
     "output_type": "stream",
     "text": [
      "9.303502839404124e-10 0.0006692465208002665\n"
     ]
    }
   ],
   "source": [
    "dataset_min = np.amin(check)\n",
    "dataset_max = np.amax(check) #jak teraz znormalizuje to jak potem to zrobić?\n",
    "print(dataset_min,dataset_max)\n",
    "dataset_normalized = []\n",
    "for data in D:\n",
    "    dataset_normalized.append([normalization(data[0],dataset_max,dataset_min),data[1]])"
   ]
  },
  {
   "cell_type": "code",
   "execution_count": 18,
   "metadata": {},
   "outputs": [
    {
     "data": {
      "image/png": "[encoded data removed]",
      "text/plain": [
       "<Figure size 432x288 with 1 Axes>"
      ]
     },
     "metadata": {},
     "output_type": "display_data"
    }
   ],
   "source": [
    "plt.hist(label)  # arguments are passed to np.histogram\n",
    "plt.title(\"Labels\")\n",
    "plt.show()"
   ]
  },
  {
   "cell_type": "code",
   "execution_count": 19,
   "metadata": {},
   "outputs": [
    {
     "data": {
      "image/png": "[encoded data removed]",
      "text/plain": [
       "<Figure size 432x288 with 1 Axes>"
      ]
     },
     "metadata": {},
     "output_type": "display_data"
    }
   ],
   "source": [
    "plt.hist([np.amax(data_x[0]) for data_x in dataset_normalized])  # arguments are passed to np.histogram\n",
    "plt.title(\"Histogram with data_maximum \")\n",
    "plt.show()"
   ]
  },
  {
   "cell_type": "code",
   "execution_count": 20,
   "metadata": {},
   "outputs": [
    {
     "name": "stdout",
     "output_type": "stream",
     "text": [
      "1574\n",
      "2\n",
      "96\n",
      "32\n",
      "[1 0 1 0 1 1 1 1 1 0 1 1 1 1 1 1 0 1 1 1 0 1 1 0 1 1 0 1 1 1 0 1 1 0 0 1 0\n",
      " 0 1 0 1 1 0 0 0 0 1 1 0 0 0 1 1 0 1 0 1 1 1 1 0 0 0 1 1 0 1 0 0 0 1 0 1 1\n",
      " 1 1 0 1 0 0 0 1 0 0 1 1 0 0 0 1 0 1 0 0 1 1 0 0 1 1 1 1 1 1 1 0 1 1 1 1 1\n",
      " 1 1 1 1 1 0 1 1 1 0 1 1 0 0 0 1 0 0 1 0 1 1 1 0 0 0 0 1 0 1 1 1 0 1 1 0 1\n",
      " 1 1 0 0 0 1 1 0 0 1 1 1 0 0 0 0 0 1 0 1 1 1 0 1 0 1 1 1 1 1 1 1 1 1 0 0 1\n",
      " 1 1 1 1 1 1 1 1 1 1 0 0 0 0 1 1 0 0 0 1 0 0 0 0 0 0 1 0 0 1 1 1 1 0 1 1 1\n",
      " 0 0]\n"
     ]
    }
   ],
   "source": [
    "dataset_array = keras.utils.normalize(check,axis=-1,order=2)\n",
    "dataset = dataset_normalized\n",
    "\n",
    "print(len(D))\n",
    "print(len(D[0]))\n",
    "print(len(D[0][0]))\n",
    "print(len(D[0][0][0]))\n",
    "random.shuffle(dataset)\n",
    "\n",
    "train = dataset[:1350]\n",
    "test = dataset[1350:]\n",
    "\n",
    "x_train, y_train = zip(*train)\n",
    "x_test, y_test = zip(*test)\n",
    "\n",
    "# Reshape for CNN input\n",
    "fft_size = 96\n",
    "cols = 32\n",
    "x_train = np.array([x.reshape( (fft_size, cols, 1) ) for x in x_train])\n",
    "x_test = np.array([x.reshape( (fft_size, cols, 1) ) for x in x_test])\n",
    "\n",
    "# One-Hot encoding for classes\n",
    "encoder = LabelEncoder()\n",
    "encoder.fit(y_train)\n",
    "y_train = encoder.transform(y_train)\n",
    "y_test = encoder.transform(y_test)\n",
    "print(y_test)"
   ]
  },
  {
   "cell_type": "code",
   "execution_count": 22,
   "metadata": {},
   "outputs": [],
   "source": [
    "Tensor_board = keras.callbacks.TensorBoard(log_dir='./logs/noise_32', write_images=True)\n",
    "filepath=\"weights-improvement_noise.hdf5\"\n",
    "checkpoint = keras.callbacks.ModelCheckpoint(filepath,monitor=\"acc\", verbose=1, save_best_only=True)\n",
    "callbacks_list = [checkpoint,Tensor_board]"
   ]
  },
  {
   "cell_type": "code",
   "execution_count": null,
   "metadata": {},
   "outputs": [],
   "source": [
    "#architekrura 128x32\n",
    "model = Sequential()\n",
    "input_shape=(128, 32, 1)\n",
    "\n",
    "model.add(Conv2D(24, (5, 5), strides=(1, 1), input_shape=input_shape))\n",
    "model.add(MaxPooling2D((4, 2), strides=(4, 2)))\n",
    "model.add(Activation('relu'))\n",
    "\n",
    "model.add(Conv2D(48, (5, 5), padding=\"valid\"))\n",
    "model.add(MaxPooling2D((4, 2), strides=(4, 2)))\n",
    "model.add(Activation('relu'))\n",
    "\n",
    "model.add(Conv2D(48, (5, 5), padding=\"valid\"))\n",
    "model.add(Activation('relu'))\n",
    "\n",
    "model.add(Flatten())\n",
    "model.add(Dropout(rate=0.5))\n",
    "\n",
    "model.add(Dense(64))\n",
    "model.add(Activation('relu'))\n",
    "model.add(Dropout(rate=0.5))\n",
    "\n",
    "model.add(Dense(1, activation='sigmoid'))"
   ]
  },
  {
   "cell_type": "code",
   "execution_count": 23,
   "metadata": {},
   "outputs": [],
   "source": [
    "#architektura 96x32\n",
    "model = Sequential()\n",
    "input_shape=(fft_size, cols, 1)\n",
    "\n",
    "model.add(Conv2D(24, (5, 5), strides=(1, 1), input_shape=input_shape))\n",
    "model.add(MaxPooling2D((2, 2), strides=(2, 2)))\n",
    "model.add(Activation('relu'))\n",
    "\n",
    "model.add(Conv2D(48, (5, 5), padding=\"valid\"))\n",
    "model.add(MaxPooling2D((4, 2), strides=(4, 2)))\n",
    "model.add(Activation('relu'))\n",
    "\n",
    "model.add(Conv2D(48, (5, 5), padding=\"valid\"))\n",
    "model.add(Activation('relu'))\n",
    "\n",
    "model.add(Flatten())\n",
    "model.add(Dropout(rate=0.5))\n",
    "\n",
    "model.add(Dense(64))\n",
    "model.add(Activation('relu'))\n",
    "model.add(Dropout(rate=0.5))\n",
    "\n",
    "model.add(Dense(1, activation='sigmoid'))"
   ]
  },
  {
   "cell_type": "code",
   "execution_count": 10,
   "metadata": {
    "scrolled": true
   },
   "outputs": [
    {
     "name": "stdout",
     "output_type": "stream",
     "text": [
      "_________________________________________________________________\n",
      "Layer (type)                 Output Shape              Param #   \n",
      "=================================================================\n",
      "conv2d_1 (Conv2D)            (None, 92, 28, 24)        624       \n",
      "_________________________________________________________________\n",
      "max_pooling2d_1 (MaxPooling2 (None, 46, 14, 24)        0         \n",
      "_________________________________________________________________\n",
      "activation_1 (Activation)    (None, 46, 14, 24)        0         \n",
      "_________________________________________________________________\n",
      "conv2d_2 (Conv2D)            (None, 42, 10, 48)        28848     \n",
      "_________________________________________________________________\n",
      "max_pooling2d_2 (MaxPooling2 (None, 10, 5, 48)         0         \n",
      "_________________________________________________________________\n",
      "activation_2 (Activation)    (None, 10, 5, 48)         0         \n",
      "_________________________________________________________________\n",
      "conv2d_3 (Conv2D)            (None, 6, 1, 48)          57648     \n",
      "_________________________________________________________________\n",
      "activation_3 (Activation)    (None, 6, 1, 48)          0         \n",
      "_________________________________________________________________\n",
      "flatten_1 (Flatten)          (None, 288)               0         \n",
      "_________________________________________________________________\n",
      "dropout_1 (Dropout)          (None, 288)               0         \n",
      "_________________________________________________________________\n",
      "dense_1 (Dense)              (None, 64)                18496     \n",
      "_________________________________________________________________\n",
      "activation_4 (Activation)    (None, 64)                0         \n",
      "_________________________________________________________________\n",
      "dropout_2 (Dropout)          (None, 64)                0         \n",
      "_________________________________________________________________\n",
      "dense_2 (Dense)              (None, 1)                 65        \n",
      "=================================================================\n",
      "Total params: 105,681\n",
      "Trainable params: 105,681\n",
      "Non-trainable params: 0\n",
      "_________________________________________________________________\n"
     ]
    }
   ],
   "source": [
    "model.summary()"
   ]
  },
  {
   "cell_type": "code",
   "execution_count": null,
   "metadata": {},
   "outputs": [],
   "source": [
    "model.load_weights(\"logs_32_7ms/weights-improvement_9666.hdf5\")"
   ]
  },
  {
   "cell_type": "code",
   "execution_count": 24,
   "metadata": {},
   "outputs": [
    {
     "name": "stdout",
     "output_type": "stream",
     "text": [
      "Epoch 1/50\n",
      "1350/1350 [==============================] - 7s 5ms/step - loss: 0.6729 - acc: 0.6319\n",
      "\n",
      "Epoch 00001: acc improved from -inf to 0.63185, saving model to weights-improvement_noise.hdf5\n",
      "Epoch 2/50\n",
      "1350/1350 [==============================] - 7s 5ms/step - loss: 0.6647 - acc: 0.6437\n",
      "\n",
      "Epoch 00002: acc improved from 0.63185 to 0.64370, saving model to weights-improvement_noise.hdf5\n",
      "Epoch 3/50\n",
      "1350/1350 [==============================] - 8s 6ms/step - loss: 0.6607 - acc: 0.6452\n",
      "\n",
      "Epoch 00003: acc improved from 0.64370 to 0.64519, saving model to weights-improvement_noise.hdf5\n",
      "Epoch 4/50\n",
      "1350/1350 [==============================] - 9s 6ms/step - loss: 0.6586 - acc: 0.6437\n",
      "\n",
      "Epoch 00004: acc did not improve from 0.64519\n",
      "Epoch 5/50\n",
      "1350/1350 [==============================] - 8s 6ms/step - loss: 0.6612 - acc: 0.6422\n",
      "\n",
      "Epoch 00005: acc did not improve from 0.64519\n",
      "Epoch 6/50\n",
      "1350/1350 [==============================] - 8s 6ms/step - loss: 0.6514 - acc: 0.6437\n",
      "\n",
      "Epoch 00006: acc did not improve from 0.64519\n",
      "Epoch 7/50\n",
      "1350/1350 [==============================] - 8s 6ms/step - loss: 0.6439 - acc: 0.6437\n",
      "\n",
      "Epoch 00007: acc did not improve from 0.64519\n",
      "Epoch 8/50\n",
      "1350/1350 [==============================] - 8s 6ms/step - loss: 0.6368 - acc: 0.6437\n",
      "\n",
      "Epoch 00008: acc did not improve from 0.64519\n",
      "Epoch 9/50\n",
      "1350/1350 [==============================] - 8s 6ms/step - loss: 0.6151 - acc: 0.6541\n",
      "\n",
      "Epoch 00009: acc improved from 0.64519 to 0.65407, saving model to weights-improvement_noise.hdf5\n",
      "Epoch 10/50\n",
      "1350/1350 [==============================] - 8s 6ms/step - loss: 0.5941 - acc: 0.6874\n",
      "\n",
      "Epoch 00010: acc improved from 0.65407 to 0.68741, saving model to weights-improvement_noise.hdf5\n",
      "Epoch 11/50\n",
      "1350/1350 [==============================] - 8s 6ms/step - loss: 0.5670 - acc: 0.7163\n",
      "\n",
      "Epoch 00011: acc improved from 0.68741 to 0.71630, saving model to weights-improvement_noise.hdf5\n",
      "Epoch 12/50\n",
      "1350/1350 [==============================] - 8s 6ms/step - loss: 0.5374 - acc: 0.7578\n",
      "\n",
      "Epoch 00012: acc improved from 0.71630 to 0.75778, saving model to weights-improvement_noise.hdf5\n",
      "Epoch 13/50\n",
      "1350/1350 [==============================] - 9s 7ms/step - loss: 0.4957 - acc: 0.7830\n",
      "\n",
      "Epoch 00013: acc improved from 0.75778 to 0.78296, saving model to weights-improvement_noise.hdf5\n",
      "Epoch 14/50\n",
      "1350/1350 [==============================] - 7s 5ms/step - loss: 0.4487 - acc: 0.8170\n",
      "\n",
      "Epoch 00014: acc improved from 0.78296 to 0.81704, saving model to weights-improvement_noise.hdf5\n",
      "Epoch 15/50\n",
      "1350/1350 [==============================] - 7s 5ms/step - loss: 0.4072 - acc: 0.8267\n",
      "\n",
      "Epoch 00015: acc improved from 0.81704 to 0.82667, saving model to weights-improvement_noise.hdf5\n",
      "Epoch 16/50\n",
      "1350/1350 [==============================] - 7s 5ms/step - loss: 0.4055 - acc: 0.8319\n",
      "\n",
      "Epoch 00016: acc improved from 0.82667 to 0.83185, saving model to weights-improvement_noise.hdf5\n",
      "Epoch 17/50\n",
      "1350/1350 [==============================] - 7s 5ms/step - loss: 0.3819 - acc: 0.8578\n",
      "\n",
      "Epoch 00017: acc improved from 0.83185 to 0.85778, saving model to weights-improvement_noise.hdf5\n",
      "Epoch 18/50\n",
      "1350/1350 [==============================] - 7s 5ms/step - loss: 0.3825 - acc: 0.8481\n",
      "\n",
      "Epoch 00018: acc did not improve from 0.85778\n",
      "Epoch 19/50\n",
      "1350/1350 [==============================] - 7s 6ms/step - loss: 0.3491 - acc: 0.8681\n",
      "\n",
      "Epoch 00019: acc improved from 0.85778 to 0.86815, saving model to weights-improvement_noise.hdf5\n",
      "Epoch 20/50\n",
      "1350/1350 [==============================] - 7s 6ms/step - loss: 0.3294 - acc: 0.8778\n",
      "\n",
      "Epoch 00020: acc improved from 0.86815 to 0.87778, saving model to weights-improvement_noise.hdf5\n",
      "Epoch 21/50\n",
      "1350/1350 [==============================] - 8s 6ms/step - loss: 0.3042 - acc: 0.8793\n",
      "\n",
      "Epoch 00021: acc improved from 0.87778 to 0.87926, saving model to weights-improvement_noise.hdf5\n",
      "Epoch 22/50\n",
      "1350/1350 [==============================] - 10s 7ms/step - loss: 0.2869 - acc: 0.8896\n",
      "\n",
      "Epoch 00022: acc improved from 0.87926 to 0.88963, saving model to weights-improvement_noise.hdf5\n",
      "Epoch 23/50\n",
      "1350/1350 [==============================] - 9s 7ms/step - loss: 0.3102 - acc: 0.8896\n",
      "\n",
      "Epoch 00023: acc did not improve from 0.88963\n",
      "Epoch 24/50\n",
      "1350/1350 [==============================] - 9s 6ms/step - loss: 0.2990 - acc: 0.8830\n",
      "\n",
      "Epoch 00024: acc did not improve from 0.88963\n",
      "Epoch 25/50\n",
      "1350/1350 [==============================] - 9s 6ms/step - loss: 0.2598 - acc: 0.9074\n",
      "\n",
      "Epoch 00025: acc improved from 0.88963 to 0.90741, saving model to weights-improvement_noise.hdf5\n",
      "Epoch 26/50\n",
      "1350/1350 [==============================] - 8s 6ms/step - loss: 0.2500 - acc: 0.9089\n",
      "\n",
      "Epoch 00026: acc improved from 0.90741 to 0.90889, saving model to weights-improvement_noise.hdf5\n",
      "Epoch 27/50\n",
      "1350/1350 [==============================] - 8s 6ms/step - loss: 0.2548 - acc: 0.9059\n",
      "\n",
      "Epoch 00027: acc did not improve from 0.90889\n",
      "Epoch 28/50\n",
      "1350/1350 [==============================] - 9s 7ms/step - loss: 0.2392 - acc: 0.9156\n",
      "\n",
      "Epoch 00028: acc improved from 0.90889 to 0.91556, saving model to weights-improvement_noise.hdf5\n",
      "Epoch 29/50\n",
      "1350/1350 [==============================] - 9s 7ms/step - loss: 0.2296 - acc: 0.9200\n",
      "\n",
      "Epoch 00029: acc improved from 0.91556 to 0.92000, saving model to weights-improvement_noise.hdf5\n",
      "Epoch 30/50\n",
      "1350/1350 [==============================] - 10s 7ms/step - loss: 0.2161 - acc: 0.9304\n",
      "\n",
      "Epoch 00030: acc improved from 0.92000 to 0.93037, saving model to weights-improvement_noise.hdf5\n",
      "Epoch 31/50\n",
      "1350/1350 [==============================] - 9s 6ms/step - loss: 0.2039 - acc: 0.9289\n",
      "\n",
      "Epoch 00031: acc did not improve from 0.93037\n",
      "Epoch 32/50\n",
      "1350/1350 [==============================] - 9s 7ms/step - loss: 0.2027 - acc: 0.9341\n",
      "\n",
      "Epoch 00032: acc improved from 0.93037 to 0.93407, saving model to weights-improvement_noise.hdf5\n",
      "Epoch 33/50\n",
      "1350/1350 [==============================] - 9s 7ms/step - loss: 0.1898 - acc: 0.9407\n",
      "\n",
      "Epoch 00033: acc improved from 0.93407 to 0.94074, saving model to weights-improvement_noise.hdf5\n",
      "Epoch 34/50\n",
      "1350/1350 [==============================] - 9s 7ms/step - loss: 0.1830 - acc: 0.9422\n",
      "\n",
      "Epoch 00034: acc improved from 0.94074 to 0.94222, saving model to weights-improvement_noise.hdf5\n",
      "Epoch 35/50\n",
      "1350/1350 [==============================] - 8s 6ms/step - loss: 0.1863 - acc: 0.9378\n",
      "\n",
      "Epoch 00035: acc did not improve from 0.94222\n",
      "Epoch 36/50\n",
      "1350/1350 [==============================] - 8s 6ms/step - loss: 0.1636 - acc: 0.9541\n",
      "\n",
      "Epoch 00036: acc improved from 0.94222 to 0.95407, saving model to weights-improvement_noise.hdf5\n",
      "Epoch 37/50\n",
      "1350/1350 [==============================] - 9s 6ms/step - loss: 0.1544 - acc: 0.9504\n",
      "\n",
      "Epoch 00037: acc did not improve from 0.95407\n",
      "Epoch 38/50\n",
      "1350/1350 [==============================] - 9s 7ms/step - loss: 0.1475 - acc: 0.9533\n",
      "\n",
      "Epoch 00038: acc did not improve from 0.95407\n",
      "Epoch 39/50\n",
      "1350/1350 [==============================] - 9s 6ms/step - loss: 0.1461 - acc: 0.9570\n",
      "\n",
      "Epoch 00039: acc improved from 0.95407 to 0.95704, saving model to weights-improvement_noise.hdf5\n",
      "Epoch 40/50\n",
      "1350/1350 [==============================] - 10s 7ms/step - loss: 0.1450 - acc: 0.9511\n",
      "\n",
      "Epoch 00040: acc did not improve from 0.95704\n",
      "Epoch 41/50\n",
      "1350/1350 [==============================] - 9s 7ms/step - loss: 0.1452 - acc: 0.9496\n",
      "\n",
      "Epoch 00041: acc did not improve from 0.95704\n",
      "Epoch 42/50\n",
      "1350/1350 [==============================] - 8s 6ms/step - loss: 0.1281 - acc: 0.9607\n",
      "\n",
      "Epoch 00042: acc improved from 0.95704 to 0.96074, saving model to weights-improvement_noise.hdf5\n",
      "Epoch 43/50\n",
      "1350/1350 [==============================] - 7s 5ms/step - loss: 0.1163 - acc: 0.9689\n",
      "\n",
      "Epoch 00043: acc improved from 0.96074 to 0.96889, saving model to weights-improvement_noise.hdf5\n",
      "Epoch 44/50\n",
      "1350/1350 [==============================] - 7s 5ms/step - loss: 0.1208 - acc: 0.9637\n",
      "\n",
      "Epoch 00044: acc did not improve from 0.96889\n",
      "Epoch 45/50\n",
      "1350/1350 [==============================] - 7s 6ms/step - loss: 0.1093 - acc: 0.9637\n",
      "\n",
      "Epoch 00045: acc did not improve from 0.96889\n",
      "Epoch 46/50\n",
      "1350/1350 [==============================] - 7s 5ms/step - loss: 0.1040 - acc: 0.9741\n",
      "\n",
      "Epoch 00046: acc improved from 0.96889 to 0.97407, saving model to weights-improvement_noise.hdf5\n",
      "Epoch 47/50\n"
     ]
    },
    {
     "name": "stdout",
     "output_type": "stream",
     "text": [
      "1350/1350 [==============================] - 7s 5ms/step - loss: 0.1031 - acc: 0.9756\n",
      "\n",
      "Epoch 00047: acc improved from 0.97407 to 0.97556, saving model to weights-improvement_noise.hdf5\n",
      "Epoch 48/50\n",
      "1350/1350 [==============================] - 7s 5ms/step - loss: 0.0828 - acc: 0.9807\n",
      "\n",
      "Epoch 00048: acc improved from 0.97556 to 0.98074, saving model to weights-improvement_noise.hdf5\n",
      "Epoch 49/50\n",
      "1350/1350 [==============================] - 7s 5ms/step - loss: 0.0776 - acc: 0.9793\n",
      "\n",
      "Epoch 00049: acc did not improve from 0.98074\n",
      "Epoch 50/50\n",
      "1350/1350 [==============================] - 8s 6ms/step - loss: 0.0827 - acc: 0.9719\n",
      "\n",
      "Epoch 00050: acc did not improve from 0.98074\n",
      "224/224 [==============================] - 1s 3ms/step\n",
      "Test loss: 0.23789252234356745\n",
      "Test accuracy: 0.910714294229235\n"
     ]
    }
   ],
   "source": [
    "optimazerAdam = keras.optimizers.Adam(lr=0.0001, epsilon=None, decay=0.0, amsgrad=False)\n",
    "\n",
    "model.compile(loss='binary_crossentropy',\n",
    "              optimizer=\"Adam\",\n",
    "              metrics=['acc'])#accuracy\n",
    "\n",
    "history = model.fit(x_train, y_train,\n",
    "          epochs=50,\n",
    "          batch_size=128,\n",
    "          callbacks = callbacks_list)\n",
    "\n",
    "score = model.evaluate(x_test, y_test, batch_size=128)\n",
    "print('Test loss:', score[0])\n",
    "print('Test accuracy:', score[1])\n",
    "## tensorboard --logdir C:\\Users\\Jakub\\praca_inzynierska\\Scissors_falling\\logs --port=8080"
   ]
  },
  {
   "cell_type": "code",
   "execution_count": null,
   "metadata": {},
   "outputs": [],
   "source": [
    "print(history.history)"
   ]
  },
  {
   "cell_type": "code",
   "execution_count": null,
   "metadata": {},
   "outputs": [],
   "source": [
    "model.save_weights(\"model_128_7ms.h5\")\n",
    "print(\"Saved model to disk\")"
   ]
  },
  {
   "cell_type": "code",
   "execution_count": 12,
   "metadata": {},
   "outputs": [],
   "source": [
    "def plot_confusion_matrix(cm, classes,\n",
    "                          normalize=False,\n",
    "                          title='Confusion matrix',\n",
    "                          cmap=plt.cm.Blues):\n",
    "    \"\"\"\n",
    "    This function prints and plots the confusion matrix.\n",
    "    Normalization can be applied by setting `normalize=True`.\n",
    "    \"\"\"\n",
    "    if normalize:\n",
    "        cm = cm.astype('float') / cm.sum(axis=1)[:, np.newaxis]\n",
    "        print(\"Normalized confusion matrix\")\n",
    "    else:\n",
    "        print('Confusion matrix, without normalization')\n",
    "    plt.imshow(cm, interpolation='nearest', cmap=cmap)\n",
    "    plt.title(title)\n",
    "    plt.colorbar()\n",
    "    tick_marks = np.arange(len(classes))\n",
    "    plt.xticks(tick_marks, classes, rotation=45)\n",
    "    plt.yticks(tick_marks, classes)\n",
    "\n",
    "    fmt = '.2f' if normalize else 'd'\n",
    "    thresh = cm.max() / 2.\n",
    "    for i, j in itertools.product(range(cm.shape[0]), range(cm.shape[1])):\n",
    "        plt.text(j, i, format(cm[i, j], fmt),\n",
    "                 horizontalalignment=\"center\",\n",
    "                 color=\"white\" if cm[i, j] > thresh else \"black\")\n",
    "\n",
    "    plt.ylabel('True label')\n",
    "    plt.xlabel('Predicted label')\n",
    "    plt.tight_layout()"
   ]
  },
  {
   "cell_type": "code",
   "execution_count": null,
   "metadata": {},
   "outputs": [],
   "source": [
    "#whole dataset\n",
    "prediction = []\n",
    "prediction_label =[]\n",
    "prediction_predicted = []\n",
    "for i in range(0,len(y_train)):\n",
    "    prediction.append(model.predict(x_train[i].reshape(1,fft_size,cols,1))[0][0])\n",
    "    prediction_label.append(y_train[i])\n",
    "    prediction_predicted.append(round(prediction[i]))\n",
    "    \n",
    "        \n",
    "#print(prediction,prediction_label)\n",
    "#for check_item in dataset_normalized:\n",
    "#   prediction.append(model.predict(check_item[0].reshape(1,128,128,1))[0][0])\n",
    "#   prediction_label.append(check_item[1])\n",
    "#    if(prediction[-1]>0.5):\n",
    "#       prediction_predicted.append(\"128_7ms/ok\")\n",
    "#    else:\n",
    "#        prediction_predicted.append(\"128_7ms/nok\")\n",
    "        \n",
    "plt.hist(prediction)  # arguments are passed to np.histogram\n",
    "plt.title(\"Prediction\")\n",
    "plt.show()\n",
    "matrix = confusion_matrix(y_pred=prediction_predicted,y_true=prediction_label)\n",
    "print(matrix)\n",
    "plt.figure()\n",
    "plot_confusion_matrix(matrix, classes=[\"Pęknięcie\",'Brak pęknięcia'],\n",
    "                      title='Confusion matrix, without normalization')\n",
    "recall = (matrix[0][0])/(matrix[0][0]+matrix[1][0])\n",
    "precision = (matrix[0][0])/(matrix[0][0]+matrix[0][1])\n",
    "score = 2/((1/recall) + (1/precision))\n",
    "print(\"Recall/Czułość: {0:0.3f}\".format(recall),\"Precision/Precyzja: {0:0.3f}\".format(precision),\"F-Score: {0:0.3f}\".format(score))"
   ]
  },
  {
   "cell_type": "code",
   "execution_count": 17,
   "metadata": {},
   "outputs": [
    {
     "data": {
      "image/png": "[encoded data removed]",
      "text/plain": [
       "<Figure size 432x288 with 1 Axes>"
      ]
     },
     "metadata": {},
     "output_type": "display_data"
    },
    {
     "name": "stdout",
     "output_type": "stream",
     "text": [
      "[[ 47  25]\n",
      " [  1 542]]\n",
      "Confusion matrix, without normalization\n",
      "Recall/Czułość: 0.979 Precision/Precyzja: 0.653 F-Score: 0.783\n"
     ]
    },
    {
     "data": {
      "image/png": "[encoded data removed]",
      "text/plain": [
       "<Figure size 432x288 with 2 Axes>"
      ]
     },
     "metadata": {},
     "output_type": "display_data"
    }
   ],
   "source": [
    "prediction = []\n",
    "prediction_label =[]\n",
    "prediction_predicted = []\n",
    "for i in range(0,len(y_test)):\n",
    "    prediction.append(model.predict(x_test[i].reshape(1,fft_size,32,1))[0][0])\n",
    "    prediction_label.append(y_test[i])\n",
    "    prediction_predicted.append(round(prediction[i]))\n",
    "    \n",
    "        \n",
    "#print(prediction,prediction_label)\n",
    "#for check_item in dataset_normalized:\n",
    "#   prediction.append(model.predict(check_item[0].reshape(1,128,128,1))[0][0])\n",
    "#   prediction_label.append(check_item[1])\n",
    "#    if(prediction[-1]>0.5):\n",
    "#       prediction_predicted.append(\"128_7ms/ok\")\n",
    "#    else:\n",
    "#        prediction_predicted.append(\"128_7ms/nok\")\n",
    "        \n",
    "plt.hist(prediction)  # arguments are passed to np.histogram\n",
    "plt.title(\"Prediction\")\n",
    "plt.show()\n",
    "matrix = confusion_matrix(y_pred=prediction_predicted,y_true=prediction_label)\n",
    "print(matrix)\n",
    "plt.figure()\n",
    "plot_confusion_matrix(matrix, classes=[\"Pęknięcie\",'Brak pęknięcia'],\n",
    "                      title='Confusion matrix, without normalization')\n",
    "recall = (matrix[0][0])/(matrix[0][0]+matrix[1][0])\n",
    "precision = (matrix[0][0])/(matrix[0][0]+matrix[0][1])\n",
    "score = 2/((1/recall) + (1/precision))\n",
    "print(\"Recall/Czułość: {0:0.3f}\".format(recall),\"Precision/Precyzja: {0:0.3f}\".format(precision),\"F-Score: {0:0.3f}\".format(score))"
   ]
  },
  {
   "cell_type": "code",
   "execution_count": null,
   "metadata": {},
   "outputs": [],
   "source": []
  },
  {
   "cell_type": "code",
   "execution_count": null,
   "metadata": {},
   "outputs": [],
   "source": []
  }
 ],
 "metadata": {
  "kernelspec": {
   "display_name": "Python 3",
   "language": "python",
   "name": "python3"
  },
  "language_info": {
   "codemirror_mode": {
    "name": "ipython",
    "version": 3
   },
   "file_extension": ".py",
   "mimetype": "text/x-python",
   "name": "python",
   "nbconvert_exporter": "python",
   "pygments_lexer": "ipython3",
   "version": "3.6.5"
  }
 },
 "nbformat": 4,
 "nbformat_minor": 2
}
