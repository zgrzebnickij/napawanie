{
 "cells": [
  {
   "cell_type": "code",
   "execution_count": 17,
   "metadata": {},
   "outputs": [],
   "source": [
    "import keras\n",
    "import numpy as np\n",
    "import matplotlib.pyplot as plt\n",
    "import os\n",
    "import random\n",
    "import h5py\n",
    "from sklearn.metrics import confusion_matrix\n",
    "from sklearn.preprocessing import LabelEncoder\n",
    "from  keras.layers import Activation, Dense, Dropout, Conv2D, \\\n",
    "                         Flatten, MaxPooling2D\n",
    "from keras.models import Sequential"
   ]
  },
  {
   "cell_type": "code",
   "execution_count": 12,
   "metadata": {},
   "outputs": [
    {
     "name": "stdout",
     "output_type": "stream",
     "text": [
      "1096 2 done\n"
     ]
    }
   ],
   "source": [
    "D=[]\n",
    "check=[]\n",
    "label = []\n",
    "for folder in [\"128_7ms/ok\",\"128_7ms/nok\"]:\n",
    "    i = 0\n",
    "    for file in os.listdir(folder):\n",
    "        if(i>900):\n",
    "            continue\n",
    "        if(\".npy\" in file):\n",
    "            spectogram = np.load(folder+\"/\"+file)\n",
    "            if spectogram.shape != (128, 128): continue\n",
    "            D.append((spectogram, folder))\n",
    "            label.append(folder)\n",
    "            check.append(spectogram) #może tu normalizować\n",
    "            i+=1\n",
    "print(len(D),len(D[0]),\"done\")"
   ]
  },
  {
   "cell_type": "code",
   "execution_count": 3,
   "metadata": {},
   "outputs": [],
   "source": [
    "def normalization(data,x_max,x_min):\n",
    "    diff = x_max-x_min\n",
    "    for rows in range(0,len(data)):\n",
    "        for cols in range(0,len(data[0])):\n",
    "            data[rows][cols] = (data[rows][cols]-x_min)/diff \n",
    "    return data"
   ]
  },
  {
   "cell_type": "code",
   "execution_count": 13,
   "metadata": {
    "scrolled": false
   },
   "outputs": [
    {
     "name": "stdout",
     "output_type": "stream",
     "text": [
      "7.295001191662265e-14 0.0006509951221093928\n"
     ]
    }
   ],
   "source": [
    "dataset_min = np.amin(check)\n",
    "dataset_max = np.amax(check) #jak teraz znormalizuje to jak potem to zrobić?\n",
    "print(dataset_min,dataset_max)\n",
    "dataset_normalized = []\n",
    "for data in D:\n",
    "    dataset_normalized.append([normalization(data[0],dataset_max,dataset_min),data[1]])"
   ]
  },
  {
   "cell_type": "code",
   "execution_count": 14,
   "metadata": {},
   "outputs": [
    {
     "data": {
      "image/png": "[encoded data removed]",
      "text/plain": [
       "<Figure size 432x288 with 1 Axes>"
      ]
     },
     "metadata": {},
     "output_type": "display_data"
    }
   ],
   "source": [
    "plt.hist(label)  # arguments are passed to np.histogram\n",
    "plt.title(\"Labels\")\n",
    "plt.show()"
   ]
  },
  {
   "cell_type": "code",
   "execution_count": 15,
   "metadata": {},
   "outputs": [
    {
     "data": {
      "image/png": "[encoded data removed]",
      "text/plain": [
       "<Figure size 432x288 with 1 Axes>"
      ]
     },
     "metadata": {},
     "output_type": "display_data"
    }
   ],
   "source": [
    "plt.hist([np.amax(data_x[0]) for data_x in dataset_normalized])  # arguments are passed to np.histogram\n",
    "plt.title(\"Histogram with data_maximum \")\n",
    "plt.show()"
   ]
  },
  {
   "cell_type": "code",
   "execution_count": 7,
   "metadata": {},
   "outputs": [
    {
     "name": "stdout",
     "output_type": "stream",
     "text": [
      "592\n",
      "2\n",
      "128\n",
      "128\n",
      "[0 1 0 0 1 0 0 1 1 1 1 1 0 0 1 1 1 0 1 1 1 1 0 0 1 0 1 0 0 1 1 0 0 0 1 0 0\n",
      " 0 1 1 0 0]\n"
     ]
    }
   ],
   "source": [
    "dataset_array = keras.utils.normalize(check,axis=-1,order=2)\n",
    "dataset = dataset_normalized\n",
    "\n",
    "print(len(D))\n",
    "print(len(D[0]))\n",
    "print(len(D[0][0]))\n",
    "print(len(D[0][0][0]))\n",
    "random.shuffle(dataset)\n",
    "\n",
    "train = dataset[:550]\n",
    "test = dataset[550:]\n",
    "\n",
    "x_train, y_train = zip(*train)\n",
    "x_test, y_test = zip(*test)\n",
    "\n",
    "# Reshape for CNN input\n",
    "x_train = np.array([x.reshape( (128, 128, 1) ) for x in x_train])\n",
    "x_test = np.array([x.reshape( (128, 128, 1) ) for x in x_test])\n",
    "\n",
    "# One-Hot encoding for classes\n",
    "encoder = LabelEncoder()\n",
    "encoder.fit(y_train)\n",
    "y_train = encoder.transform(y_train)\n",
    "y_test = encoder.transform(y_test)\n",
    "print(y_test)"
   ]
  },
  {
   "cell_type": "code",
   "execution_count": 8,
   "metadata": {},
   "outputs": [],
   "source": [
    "Tensor_board = keras.callbacks.TensorBoard(log_dir='./logs', write_images=True)\n",
    "filepath=\"weights-improvement.hdf5\"\n",
    "checkpoint = keras.callbacks.ModelCheckpoint(filepath,monitor=\"acc\", verbose=1, save_best_only=True)\n",
    "callbacks_list = [checkpoint,Tensor_board]"
   ]
  },
  {
   "cell_type": "code",
   "execution_count": null,
   "metadata": {},
   "outputs": [],
   "source": [
    "#architekrura 128x32\n",
    "model = Sequential()\n",
    "input_shape=(128, 32, 1)\n",
    "\n",
    "model.add(Conv2D(24, (5, 5), strides=(1, 1), input_shape=input_shape))\n",
    "model.add(MaxPooling2D((4, 2), strides=(4, 2)))\n",
    "model.add(Activation('relu'))\n",
    "\n",
    "model.add(Conv2D(48, (5, 5), padding=\"valid\"))\n",
    "model.add(MaxPooling2D((4, 2), strides=(4, 2)))\n",
    "model.add(Activation('relu'))\n",
    "\n",
    "model.add(Conv2D(48, (5, 5), padding=\"valid\"))\n",
    "model.add(Activation('relu'))\n",
    "\n",
    "model.add(Flatten())\n",
    "model.add(Dropout(rate=0.5))\n",
    "\n",
    "model.add(Dense(64))\n",
    "model.add(Activation('relu'))\n",
    "model.add(Dropout(rate=0.5))\n",
    "\n",
    "model.add(Dense(1, activation='sigmoid'))"
   ]
  },
  {
   "cell_type": "code",
   "execution_count": 9,
   "metadata": {},
   "outputs": [],
   "source": [
    "#architektura 128x128\n",
    "model = Sequential()\n",
    "input_shape=(128, 128, 1)\n",
    "\n",
    "model.add(Conv2D(24, (5, 5), strides=(1, 1), input_shape=input_shape))\n",
    "model.add(MaxPooling2D((4, 2), strides=(4, 2)))\n",
    "model.add(Activation('relu'))\n",
    "\n",
    "model.add(Conv2D(48, (5, 5), padding=\"valid\"))\n",
    "model.add(MaxPooling2D((4, 2), strides=(4, 2)))\n",
    "model.add(Activation('relu'))\n",
    "\n",
    "model.add(Conv2D(48, (5, 5), padding=\"valid\"))\n",
    "model.add(Activation('relu'))\n",
    "\n",
    "model.add(Flatten())\n",
    "model.add(Dropout(rate=0.5))\n",
    "\n",
    "model.add(Dense(128))\n",
    "model.add(Activation('relu'))\n",
    "model.add(Dropout(rate=0.5))\n",
    "\n",
    "model.add(Dense(1, activation='sigmoid'))"
   ]
  },
  {
   "cell_type": "code",
   "execution_count": 10,
   "metadata": {},
   "outputs": [
    {
     "name": "stdout",
     "output_type": "stream",
     "text": [
      "Epoch 1/25\n",
      "550/550 [==============================] - 29s 53ms/step - loss: 0.6937 - acc: 0.5309\n",
      "\n",
      "Epoch 00001: acc improved from -inf to 0.53091, saving model to weights-improvement.hdf5\n",
      "Epoch 2/25\n",
      "550/550 [==============================] - 34s 61ms/step - loss: 0.6948 - acc: 0.4927\n",
      "\n",
      "Epoch 00002: acc did not improve from 0.53091\n",
      "Epoch 3/25\n",
      "550/550 [==============================] - 30s 55ms/step - loss: 0.6941 - acc: 0.4764\n",
      "\n",
      "Epoch 00003: acc did not improve from 0.53091\n",
      "Epoch 4/25\n",
      "550/550 [==============================] - 31s 56ms/step - loss: 0.6926 - acc: 0.5255\n",
      "\n",
      "Epoch 00004: acc did not improve from 0.53091\n",
      "Epoch 5/25\n",
      "550/550 [==============================] - 32s 58ms/step - loss: 0.6925 - acc: 0.4927\n",
      "\n",
      "Epoch 00005: acc did not improve from 0.53091\n",
      "Epoch 6/25\n",
      "550/550 [==============================] - 33s 59ms/step - loss: 0.6914 - acc: 0.4855\n",
      "\n",
      "Epoch 00006: acc did not improve from 0.53091\n",
      "Epoch 7/25\n",
      "550/550 [==============================] - 34s 62ms/step - loss: 0.6911 - acc: 0.4745\n",
      "\n",
      "Epoch 00007: acc did not improve from 0.53091\n",
      "Epoch 8/25\n",
      "550/550 [==============================] - 33s 60ms/step - loss: 0.6919 - acc: 0.5236\n",
      "\n",
      "Epoch 00008: acc did not improve from 0.53091\n",
      "Epoch 9/25\n",
      "550/550 [==============================] - 31s 57ms/step - loss: 0.6910 - acc: 0.5309\n",
      "\n",
      "Epoch 00009: acc did not improve from 0.53091\n",
      "Epoch 10/25\n",
      "550/550 [==============================] - 34s 63ms/step - loss: 0.6816 - acc: 0.5564\n",
      "\n",
      "Epoch 00010: acc improved from 0.53091 to 0.55636, saving model to weights-improvement.hdf5\n",
      "Epoch 11/25\n",
      "550/550 [==============================] - 32s 59ms/step - loss: 0.6904 - acc: 0.4927\n",
      "\n",
      "Epoch 00011: acc did not improve from 0.55636\n",
      "Epoch 12/25\n",
      "550/550 [==============================] - 32s 59ms/step - loss: 0.6761 - acc: 0.5582\n",
      "\n",
      "Epoch 00012: acc improved from 0.55636 to 0.55818, saving model to weights-improvement.hdf5\n",
      "Epoch 13/25\n",
      "550/550 [==============================] - 33s 60ms/step - loss: 0.6639 - acc: 0.5927\n",
      "\n",
      "Epoch 00013: acc improved from 0.55818 to 0.59273, saving model to weights-improvement.hdf5\n",
      "Epoch 14/25\n",
      "550/550 [==============================] - 34s 62ms/step - loss: 0.6559 - acc: 0.5909\n",
      "\n",
      "Epoch 00014: acc did not improve from 0.59273\n",
      "Epoch 15/25\n",
      "550/550 [==============================] - 32s 58ms/step - loss: 0.6601 - acc: 0.5745\n",
      "\n",
      "Epoch 00015: acc did not improve from 0.59273\n",
      "Epoch 16/25\n",
      "550/550 [==============================] - 34s 62ms/step - loss: 0.6481 - acc: 0.5873\n",
      "\n",
      "Epoch 00016: acc did not improve from 0.59273\n",
      "Epoch 17/25\n",
      "550/550 [==============================] - 34s 61ms/step - loss: 0.6419 - acc: 0.5964\n",
      "\n",
      "Epoch 00017: acc improved from 0.59273 to 0.59636, saving model to weights-improvement.hdf5\n",
      "Epoch 18/25\n",
      "550/550 [==============================] - 32s 59ms/step - loss: 0.6179 - acc: 0.6164\n",
      "\n",
      "Epoch 00018: acc improved from 0.59636 to 0.61636, saving model to weights-improvement.hdf5\n",
      "Epoch 19/25\n",
      "550/550 [==============================] - 33s 60ms/step - loss: 0.5941 - acc: 0.6545\n",
      "\n",
      "Epoch 00019: acc improved from 0.61636 to 0.65455, saving model to weights-improvement.hdf5\n",
      "Epoch 20/25\n",
      "550/550 [==============================] - 33s 60ms/step - loss: 0.5509 - acc: 0.6964\n",
      "\n",
      "Epoch 00020: acc improved from 0.65455 to 0.69636, saving model to weights-improvement.hdf5\n",
      "Epoch 21/25\n",
      "550/550 [==============================] - 33s 60ms/step - loss: 0.5454 - acc: 0.6782\n",
      "\n",
      "Epoch 00021: acc did not improve from 0.69636\n",
      "Epoch 22/25\n",
      "550/550 [==============================] - 31s 57ms/step - loss: 0.5364 - acc: 0.7527\n",
      "\n",
      "Epoch 00022: acc improved from 0.69636 to 0.75273, saving model to weights-improvement.hdf5\n",
      "Epoch 23/25\n",
      "550/550 [==============================] - 32s 58ms/step - loss: 0.4965 - acc: 0.7418\n",
      "\n",
      "Epoch 00023: acc did not improve from 0.75273\n",
      "Epoch 24/25\n",
      "550/550 [==============================] - 33s 60ms/step - loss: 0.4786 - acc: 0.8291\n",
      "\n",
      "Epoch 00024: acc improved from 0.75273 to 0.82909, saving model to weights-improvement.hdf5\n",
      "Epoch 25/25\n",
      "550/550 [==============================] - 33s 60ms/step - loss: 0.4077 - acc: 0.8364\n",
      "\n",
      "Epoch 00025: acc improved from 0.82909 to 0.83636, saving model to weights-improvement.hdf5\n",
      "42/42 [==============================] - 1s 15ms/step\n",
      "Test loss: 0.24858643114566803\n",
      "Test accuracy: 0.9523809552192688\n"
     ]
    }
   ],
   "source": [
    "optimazerAdam = keras.optimizers.Adam(lr=0.0001, epsilon=None, decay=0.0, amsgrad=False)\n",
    "\n",
    "model.compile(loss='binary_crossentropy',\n",
    "              optimizer=\"Adam\",\n",
    "              metrics=['acc'])#accuracy\n",
    "\n",
    "history = model.fit(x_train, y_train,\n",
    "          epochs=25,\n",
    "          batch_size=128,\n",
    "          callbacks = callbacks_list)\n",
    "\n",
    "score = model.evaluate(x_test, y_test, batch_size=128)\n",
    "print('Test loss:', score[0])\n",
    "print('Test accuracy:', score[1])\n",
    "## tensorboard --logdir C:\\Users\\Jakub\\praca_inzynierska\\Scissors_falling\\logs --port=8080"
   ]
  },
  {
   "cell_type": "code",
   "execution_count": null,
   "metadata": {},
   "outputs": [],
   "source": [
    "print(history.history)"
   ]
  },
  {
   "cell_type": "code",
   "execution_count": null,
   "metadata": {},
   "outputs": [],
   "source": [
    "model.save_weights(\"model_128_7ms.h5\")\n",
    "print(\"Saved model to disk\")"
   ]
  },
  {
   "cell_type": "code",
   "execution_count": 31,
   "metadata": {},
   "outputs": [
    {
     "data": {
      "image/png": "[encoded data removed]",
      "text/plain": [
       "<Figure size 432x288 with 1 Axes>"
      ]
     },
     "metadata": {},
     "output_type": "display_data"
    },
    {
     "name": "stdout",
     "output_type": "stream",
     "text": [
      "[[643 162]\n",
      " [ 68 223]]\n"
     ]
    }
   ],
   "source": [
    "prediction = []\n",
    "prediction_label =[]\n",
    "prediction_predicted = []\n",
    "for check_item in dataset_normalized:\n",
    "    prediction.append(model.predict(check_item[0].reshape(1,128,128,1))[0][0])\n",
    "    prediction_label.append(check_item[1])\n",
    "    if(prediction[-1]>0.5):\n",
    "        prediction_predicted.append(\"128_7ms/ok\")\n",
    "    else:\n",
    "        prediction_predicted.append(\"128_7ms/nok\")\n",
    "plt.hist(prediction)  # arguments are passed to np.histogram\n",
    "plt.title(\"Prediction\")\n",
    "plt.show()\n",
    "matrix = confusion_matrix(y_pred=prediction_predicted,y_true=prediction_label)\n",
    "print(matrix)"
   ]
  },
  {
   "cell_type": "code",
   "execution_count": null,
   "metadata": {},
   "outputs": [],
   "source": []
  },
  {
   "cell_type": "code",
   "execution_count": null,
   "metadata": {},
   "outputs": [],
   "source": []
  }
 ],
 "metadata": {
  "kernelspec": {
   "display_name": "Python 3",
   "language": "python",
   "name": "python3"
  },
  "language_info": {
   "codemirror_mode": {
    "name": "ipython",
    "version": 3
   },
   "file_extension": ".py",
   "mimetype": "text/x-python",
   "name": "python",
   "nbconvert_exporter": "python",
   "pygments_lexer": "ipython3",
   "version": "3.6.5"
  }
 },
 "nbformat": 4,
 "nbformat_minor": 2
}
