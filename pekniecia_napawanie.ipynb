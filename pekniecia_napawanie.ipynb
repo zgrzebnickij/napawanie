{
 "cells": [
  {
   "cell_type": "code",
   "execution_count": 37,
   "metadata": {},
   "outputs": [],
   "source": [
    "import keras\n",
    "import numpy as np\n",
    "import os\n",
    "import random\n",
    "from sklearn.preprocessing import LabelEncoder"
   ]
  },
  {
   "cell_type": "code",
   "execution_count": 31,
   "metadata": {},
   "outputs": [
    {
     "name": "stdout",
     "output_type": "stream",
     "text": [
      "525 2 done\n"
     ]
    }
   ],
   "source": [
    "D=[]\n",
    "check=[]\n",
    "label = []\n",
    "for folder in [\"ok\",\"nok\"]:\n",
    "    for file in os.listdir(folder):\n",
    "        if(\".npy\" in file):\n",
    "            spectogram = np.load(folder+\"/\"+file)\n",
    "            if spectogram.shape != (128, 128): continue\n",
    "            D.append((spectogram, folder))\n",
    "            label.append(folder)\n",
    "            check.append(spectogram)\n",
    "print(len(D),len(D[0]),\"done\")"
   ]
  },
  {
   "cell_type": "code",
   "execution_count": 32,
   "metadata": {},
   "outputs": [
    {
     "name": "stdout",
     "output_type": "stream",
     "text": [
      "3.5831650851143464e-05 0.9496048474364612\n"
     ]
    }
   ],
   "source": [
    "print(np.amin(keras.utils.normalize(check,axis=-1,order=2)),np.amax(keras.utils.normalize(check,axis=0,order=2)))"
   ]
  },
  {
   "cell_type": "code",
   "execution_count": 38,
   "metadata": {},
   "outputs": [
    {
     "name": "stdout",
     "output_type": "stream",
     "text": [
      "525\n",
      "2\n",
      "128\n",
      "[1 1 1 1 1 0 1 0 0 1 1 1 1 0 1 1 0 0 1 0 0 1 1 1 1 0 1 1 1 1 1 1 1 1 0 1 1\n",
      " 0 1 1 0 1 0 1 0 1 0 1 1 1]\n"
     ]
    }
   ],
   "source": [
    "dataset_array = keras.utils.normalize(check,axis=-1,order=2)\n",
    "dataset = [(check[x],label[x]) for x in range(len(check))]\n",
    "\n",
    "print(len(D))\n",
    "print(len(D[0]))\n",
    "print(len(D[0][0]))\n",
    "random.shuffle(dataset)\n",
    "\n",
    "train = dataset[:475]\n",
    "test = dataset[475:]\n",
    "\n",
    "x_train, y_train = zip(*train)\n",
    "x_test, y_test = zip(*test)\n",
    "\n",
    "# Reshape for CNN input\n",
    "x_train = np.array([x.reshape( (128, 128, 1) ) for x in x_train])\n",
    "x_test = np.array([x.reshape( (128, 128, 1) ) for x in x_test])\n",
    "\n",
    "# One-Hot encoding for classes\n",
    "encoder = LabelEncoder()\n",
    "encoder.fit(y_train)\n",
    "y_train = encoder.transform(y_train)\n",
    "y_test = encoder.transform(y_test)\n",
    "print(y_test)"
   ]
  },
  {
   "cell_type": "code",
   "execution_count": null,
   "metadata": {},
   "outputs": [],
   "source": [
    "Tensor_board = keras.callbacks.TensorBoard(log_dir='./logs')"
   ]
  },
  {
   "cell_type": "code",
   "execution_count": null,
   "metadata": {},
   "outputs": [],
   "source": []
  },
  {
   "cell_type": "code",
   "execution_count": null,
   "metadata": {},
   "outputs": [],
   "source": []
  },
  {
   "cell_type": "code",
   "execution_count": null,
   "metadata": {},
   "outputs": [],
   "source": []
  },
  {
   "cell_type": "code",
   "execution_count": null,
   "metadata": {},
   "outputs": [],
   "source": []
  }
 ],
 "metadata": {
  "kernelspec": {
   "display_name": "Python 3",
   "language": "python",
   "name": "python3"
  },
  "language_info": {
   "codemirror_mode": {
    "name": "ipython",
    "version": 3
   },
   "file_extension": ".py",
   "mimetype": "text/x-python",
   "name": "python",
   "nbconvert_exporter": "python",
   "pygments_lexer": "ipython3",
   "version": "3.6.5"
  }
 },
 "nbformat": 4,
 "nbformat_minor": 2
}
