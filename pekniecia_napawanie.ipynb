{
 "cells": [
  {
   "cell_type": "code",
   "execution_count": 2,
   "metadata": {
    "scrolled": false
   },
   "outputs": [
    {
     "name": "stderr",
     "output_type": "stream",
     "text": [
      "Using TensorFlow backend.\n"
     ]
    }
   ],
   "source": [
    "import keras\n",
    "import numpy as np\n",
    "import matplotlib.pyplot as plt\n",
    "import os\n",
    "import random\n",
    "import h5py\n",
    "import itertools \n",
    "from sklearn.metrics import confusion_matrix\n",
    "from sklearn.preprocessing import LabelEncoder\n",
    "from  keras.layers import Activation, Dense, Dropout, Conv2D, \\\n",
    "                         Flatten, MaxPooling2D\n",
    "from keras.models import Sequential\n"
   ]
  },
  {
   "cell_type": "code",
   "execution_count": 3,
   "metadata": {},
   "outputs": [
    {
     "name": "stdout",
     "output_type": "stream",
     "text": [
      "688 2 done\n"
     ]
    }
   ],
   "source": [
    "D=[]\n",
    "check=[]\n",
    "label = []\n",
    "for folder in [\"32_7ms/ok\",\"32_7ms/nok\"]:\n",
    "    i = 0\n",
    "    for file in os.listdir(folder):\n",
    "        if(i>400):\n",
    "            continue\n",
    "        if(\".npy\" in file):\n",
    "            spectogram = np.load(folder+\"/\"+file)\n",
    "            if spectogram.shape != (96, 32): continue\n",
    "            D.append((spectogram, folder))\n",
    "            label.append(folder)\n",
    "            check.append(spectogram) #może tu normalizować\n",
    "            i+=1\n",
    "print(len(D),len(D[0]),\"done\")"
   ]
  },
  {
   "cell_type": "code",
   "execution_count": 4,
   "metadata": {},
   "outputs": [],
   "source": [
    "def normalization(data,x_max,x_min):\n",
    "    diff = x_max-x_min\n",
    "    for rows in range(0,len(data)):\n",
    "        for cols in range(0,len(data[0])):\n",
    "            data[rows][cols] = (data[rows][cols]-x_min)/diff \n",
    "    return data"
   ]
  },
  {
   "cell_type": "code",
   "execution_count": 5,
   "metadata": {
    "scrolled": false
   },
   "outputs": [
    {
     "name": "stdout",
     "output_type": "stream",
     "text": [
      "3.2945329903332993e-09 0.0006509951221093927\n"
     ]
    }
   ],
   "source": [
    "dataset_min = np.amin(check)\n",
    "dataset_max = np.amax(check) #jak teraz znormalizuje to jak potem to zrobić?\n",
    "print(dataset_min,dataset_max)\n",
    "dataset_normalized = []\n",
    "for data in D:\n",
    "    dataset_normalized.append([normalization(data[0],dataset_max,dataset_min),data[1]])"
   ]
  },
  {
   "cell_type": "code",
   "execution_count": 6,
   "metadata": {},
   "outputs": [
    {
     "data": {
      "image/png": "[encoded data removed]",
      "text/plain": [
       "<Figure size 432x288 with 1 Axes>"
      ]
     },
     "metadata": {},
     "output_type": "display_data"
    }
   ],
   "source": [
    "plt.hist(label)  # arguments are passed to np.histogram\n",
    "plt.title(\"Labels\")\n",
    "plt.show()"
   ]
  },
  {
   "cell_type": "code",
   "execution_count": 7,
   "metadata": {},
   "outputs": [
    {
     "data": {
      "image/png": "[encoded data removed]",
      "text/plain": [
       "<Figure size 432x288 with 1 Axes>"
      ]
     },
     "metadata": {},
     "output_type": "display_data"
    }
   ],
   "source": [
    "plt.hist([np.amax(data_x[0]) for data_x in dataset_normalized])  # arguments are passed to np.histogram\n",
    "plt.title(\"Histogram with data_maximum \")\n",
    "plt.show()"
   ]
  },
  {
   "cell_type": "code",
   "execution_count": 9,
   "metadata": {},
   "outputs": [
    {
     "name": "stdout",
     "output_type": "stream",
     "text": [
      "688\n",
      "2\n",
      "96\n",
      "32\n",
      "[1 1 1 1 0 1 1 0 0 1 1 1 1 1 0 1 1 1 1 0 1 0 1 1 0 1 1 1 0 0 0 1 0 0 1 1 1\n",
      " 1 0 1 1 0 0 1 1 1 1 1 1 1 1 0 0 0 0 1 1 1 0 1 1 0 0 1 1 1 1 0 1 0 0 1 1 0\n",
      " 0 0 0 1 0 1 0 1 0 1 1 1 1 1]\n"
     ]
    }
   ],
   "source": [
    "dataset_array = keras.utils.normalize(check,axis=-1,order=2)\n",
    "dataset = dataset_normalized\n",
    "\n",
    "print(len(D))\n",
    "print(len(D[0]))\n",
    "print(len(D[0][0]))\n",
    "print(len(D[0][0][0]))\n",
    "random.shuffle(dataset)\n",
    "\n",
    "train = dataset[:600]\n",
    "test = dataset[600:]\n",
    "\n",
    "x_train, y_train = zip(*train)\n",
    "x_test, y_test = zip(*test)\n",
    "\n",
    "# Reshape for CNN input\n",
    "fft_size = 96\n",
    "cols = 32\n",
    "x_train = np.array([x.reshape( (fft_size, cols, 1) ) for x in x_train])\n",
    "x_test = np.array([x.reshape( (fft_size, cols, 1) ) for x in x_test])\n",
    "\n",
    "# One-Hot encoding for classes\n",
    "encoder = LabelEncoder()\n",
    "encoder.fit(y_train)\n",
    "y_train = encoder.transform(y_train)\n",
    "y_test = encoder.transform(y_test)\n",
    "print(y_test)"
   ]
  },
  {
   "cell_type": "code",
   "execution_count": 10,
   "metadata": {},
   "outputs": [],
   "source": [
    "Tensor_board = keras.callbacks.TensorBoard(log_dir='./logs', write_images=True)\n",
    "filepath=\"weights-improvement.hdf5\"\n",
    "checkpoint = keras.callbacks.ModelCheckpoint(filepath,monitor=\"acc\", verbose=1, save_best_only=True)\n",
    "callbacks_list = [checkpoint,Tensor_board]"
   ]
  },
  {
   "cell_type": "code",
   "execution_count": null,
   "metadata": {},
   "outputs": [],
   "source": [
    "#architekrura 128x32\n",
    "model = Sequential()\n",
    "input_shape=(128, 32, 1)\n",
    "\n",
    "model.add(Conv2D(24, (5, 5), strides=(1, 1), input_shape=input_shape))\n",
    "model.add(MaxPooling2D((4, 2), strides=(4, 2)))\n",
    "model.add(Activation('relu'))\n",
    "\n",
    "model.add(Conv2D(48, (5, 5), padding=\"valid\"))\n",
    "model.add(MaxPooling2D((4, 2), strides=(4, 2)))\n",
    "model.add(Activation('relu'))\n",
    "\n",
    "model.add(Conv2D(48, (5, 5), padding=\"valid\"))\n",
    "model.add(Activation('relu'))\n",
    "\n",
    "model.add(Flatten())\n",
    "model.add(Dropout(rate=0.5))\n",
    "\n",
    "model.add(Dense(64))\n",
    "model.add(Activation('relu'))\n",
    "model.add(Dropout(rate=0.5))\n",
    "\n",
    "model.add(Dense(1, activation='sigmoid'))"
   ]
  },
  {
   "cell_type": "code",
   "execution_count": 12,
   "metadata": {},
   "outputs": [],
   "source": [
    "#architektura 96x32\n",
    "model = Sequential()\n",
    "input_shape=(fft_size, cols, 1)\n",
    "\n",
    "model.add(Conv2D(24, (5, 5), strides=(1, 1), input_shape=input_shape))\n",
    "model.add(MaxPooling2D((2, 2), strides=(2, 2)))\n",
    "model.add(Activation('relu'))\n",
    "\n",
    "model.add(Conv2D(48, (5, 5), padding=\"valid\"))\n",
    "model.add(MaxPooling2D((4, 2), strides=(4, 2)))\n",
    "model.add(Activation('relu'))\n",
    "\n",
    "model.add(Conv2D(48, (5, 5), padding=\"valid\"))\n",
    "model.add(Activation('relu'))\n",
    "\n",
    "model.add(Flatten())\n",
    "model.add(Dropout(rate=0.5))\n",
    "\n",
    "model.add(Dense(64))\n",
    "model.add(Activation('relu'))\n",
    "model.add(Dropout(rate=0.5))\n",
    "\n",
    "model.add(Dense(1, activation='sigmoid'))"
   ]
  },
  {
   "cell_type": "code",
   "execution_count": 13,
   "metadata": {},
   "outputs": [
    {
     "name": "stdout",
     "output_type": "stream",
     "text": [
      "_________________________________________________________________\n",
      "Layer (type)                 Output Shape              Param #   \n",
      "=================================================================\n",
      "conv2d_4 (Conv2D)            (None, 92, 28, 24)        624       \n",
      "_________________________________________________________________\n",
      "max_pooling2d_3 (MaxPooling2 (None, 46, 14, 24)        0         \n",
      "_________________________________________________________________\n",
      "activation_3 (Activation)    (None, 46, 14, 24)        0         \n",
      "_________________________________________________________________\n",
      "conv2d_5 (Conv2D)            (None, 42, 10, 48)        28848     \n",
      "_________________________________________________________________\n",
      "max_pooling2d_4 (MaxPooling2 (None, 10, 5, 48)         0         \n",
      "_________________________________________________________________\n",
      "activation_4 (Activation)    (None, 10, 5, 48)         0         \n",
      "_________________________________________________________________\n",
      "conv2d_6 (Conv2D)            (None, 6, 1, 48)          57648     \n",
      "_________________________________________________________________\n",
      "activation_5 (Activation)    (None, 6, 1, 48)          0         \n",
      "_________________________________________________________________\n",
      "flatten_1 (Flatten)          (None, 288)               0         \n",
      "_________________________________________________________________\n",
      "dropout_1 (Dropout)          (None, 288)               0         \n",
      "_________________________________________________________________\n",
      "dense_1 (Dense)              (None, 64)                18496     \n",
      "_________________________________________________________________\n",
      "activation_6 (Activation)    (None, 64)                0         \n",
      "_________________________________________________________________\n",
      "dropout_2 (Dropout)          (None, 64)                0         \n",
      "_________________________________________________________________\n",
      "dense_2 (Dense)              (None, 1)                 65        \n",
      "=================================================================\n",
      "Total params: 105,681\n",
      "Trainable params: 105,681\n",
      "Non-trainable params: 0\n",
      "_________________________________________________________________\n"
     ]
    }
   ],
   "source": [
    "model.summary()"
   ]
  },
  {
   "cell_type": "code",
   "execution_count": 10,
   "metadata": {},
   "outputs": [],
   "source": [
    "model.load_weights(\"weights-improvement_100model.hdf5\")"
   ]
  },
  {
   "cell_type": "code",
   "execution_count": 14,
   "metadata": {},
   "outputs": [
    {
     "name": "stdout",
     "output_type": "stream",
     "text": [
      "Epoch 1/50\n",
      "600/600 [==============================] - 4s 6ms/step - loss: 0.6931 - acc: 0.5050\n",
      "\n",
      "Epoch 00001: acc improved from -inf to 0.50500, saving model to weights-improvement.hdf5\n",
      "Epoch 2/50\n",
      "600/600 [==============================] - 3s 6ms/step - loss: 0.6892 - acc: 0.5733\n",
      "\n",
      "Epoch 00002: acc improved from 0.50500 to 0.57333, saving model to weights-improvement.hdf5\n",
      "Epoch 3/50\n",
      "600/600 [==============================] - 3s 5ms/step - loss: 0.6869 - acc: 0.5667\n",
      "\n",
      "Epoch 00003: acc did not improve from 0.57333\n",
      "Epoch 4/50\n",
      "600/600 [==============================] - 3s 5ms/step - loss: 0.6844 - acc: 0.5800\n",
      "\n",
      "Epoch 00004: acc improved from 0.57333 to 0.58000, saving model to weights-improvement.hdf5\n",
      "Epoch 5/50\n",
      "600/600 [==============================] - 3s 5ms/step - loss: 0.6806 - acc: 0.5883\n",
      "\n",
      "Epoch 00005: acc improved from 0.58000 to 0.58833, saving model to weights-improvement.hdf5\n",
      "Epoch 6/50\n",
      "600/600 [==============================] - 3s 5ms/step - loss: 0.6765 - acc: 0.5850\n",
      "\n",
      "Epoch 00006: acc did not improve from 0.58833\n",
      "Epoch 7/50\n",
      "600/600 [==============================] - 3s 5ms/step - loss: 0.6779 - acc: 0.5850\n",
      "\n",
      "Epoch 00007: acc did not improve from 0.58833\n",
      "Epoch 8/50\n",
      "600/600 [==============================] - 3s 5ms/step - loss: 0.6736 - acc: 0.5850\n",
      "\n",
      "Epoch 00008: acc did not improve from 0.58833\n",
      "Epoch 9/50\n",
      "600/600 [==============================] - 3s 5ms/step - loss: 0.6737 - acc: 0.6150\n",
      "\n",
      "Epoch 00009: acc improved from 0.58833 to 0.61500, saving model to weights-improvement.hdf5\n",
      "Epoch 10/50\n",
      "600/600 [==============================] - 3s 5ms/step - loss: 0.6571 - acc: 0.6317\n",
      "\n",
      "Epoch 00010: acc improved from 0.61500 to 0.63167, saving model to weights-improvement.hdf5\n",
      "Epoch 11/50\n",
      "600/600 [==============================] - 3s 5ms/step - loss: 0.6411 - acc: 0.6717\n",
      "\n",
      "Epoch 00011: acc improved from 0.63167 to 0.67167, saving model to weights-improvement.hdf5\n",
      "Epoch 12/50\n",
      "600/600 [==============================] - 3s 5ms/step - loss: 0.6097 - acc: 0.6900\n",
      "\n",
      "Epoch 00012: acc improved from 0.67167 to 0.69000, saving model to weights-improvement.hdf5\n",
      "Epoch 13/50\n",
      "600/600 [==============================] - 3s 5ms/step - loss: 0.5954 - acc: 0.6967\n",
      "\n",
      "Epoch 00013: acc improved from 0.69000 to 0.69667, saving model to weights-improvement.hdf5\n",
      "Epoch 14/50\n",
      "600/600 [==============================] - 3s 5ms/step - loss: 0.5678 - acc: 0.7167\n",
      "\n",
      "Epoch 00014: acc improved from 0.69667 to 0.71667, saving model to weights-improvement.hdf5\n",
      "Epoch 15/50\n",
      "600/600 [==============================] - 3s 5ms/step - loss: 0.5436 - acc: 0.7333\n",
      "\n",
      "Epoch 00015: acc improved from 0.71667 to 0.73333, saving model to weights-improvement.hdf5\n",
      "Epoch 16/50\n",
      "600/600 [==============================] - 3s 5ms/step - loss: 0.5331 - acc: 0.7417\n",
      "\n",
      "Epoch 00016: acc improved from 0.73333 to 0.74167, saving model to weights-improvement.hdf5\n",
      "Epoch 17/50\n",
      "600/600 [==============================] - 3s 5ms/step - loss: 0.5191 - acc: 0.7717\n",
      "\n",
      "Epoch 00017: acc improved from 0.74167 to 0.77167, saving model to weights-improvement.hdf5\n",
      "Epoch 18/50\n",
      "600/600 [==============================] - 3s 5ms/step - loss: 0.4699 - acc: 0.7967\n",
      "\n",
      "Epoch 00018: acc improved from 0.77167 to 0.79667, saving model to weights-improvement.hdf5\n",
      "Epoch 19/50\n",
      "600/600 [==============================] - 3s 5ms/step - loss: 0.4610 - acc: 0.7950\n",
      "\n",
      "Epoch 00019: acc did not improve from 0.79667\n",
      "Epoch 20/50\n",
      "600/600 [==============================] - 3s 5ms/step - loss: 0.4248 - acc: 0.8217\n",
      "\n",
      "Epoch 00020: acc improved from 0.79667 to 0.82167, saving model to weights-improvement.hdf5\n",
      "Epoch 21/50\n",
      "600/600 [==============================] - 3s 5ms/step - loss: 0.3867 - acc: 0.8433\n",
      "\n",
      "Epoch 00021: acc improved from 0.82167 to 0.84333, saving model to weights-improvement.hdf5\n",
      "Epoch 22/50\n",
      "600/600 [==============================] - 3s 5ms/step - loss: 0.3898 - acc: 0.8500\n",
      "\n",
      "Epoch 00022: acc improved from 0.84333 to 0.85000, saving model to weights-improvement.hdf5\n",
      "Epoch 23/50\n",
      "600/600 [==============================] - 3s 5ms/step - loss: 0.3697 - acc: 0.8500\n",
      "\n",
      "Epoch 00023: acc improved from 0.85000 to 0.85000, saving model to weights-improvement.hdf5\n",
      "Epoch 24/50\n",
      "600/600 [==============================] - 3s 5ms/step - loss: 0.3237 - acc: 0.8717\n",
      "\n",
      "Epoch 00024: acc improved from 0.85000 to 0.87167, saving model to weights-improvement.hdf5\n",
      "Epoch 25/50\n",
      "600/600 [==============================] - 3s 5ms/step - loss: 0.3233 - acc: 0.8650\n",
      "\n",
      "Epoch 00025: acc did not improve from 0.87167\n",
      "Epoch 26/50\n",
      "600/600 [==============================] - 3s 5ms/step - loss: 0.3624 - acc: 0.8267\n",
      "\n",
      "Epoch 00026: acc did not improve from 0.87167\n",
      "Epoch 27/50\n",
      "600/600 [==============================] - 3s 5ms/step - loss: 0.3737 - acc: 0.8417\n",
      "\n",
      "Epoch 00027: acc did not improve from 0.87167\n",
      "Epoch 28/50\n",
      "600/600 [==============================] - 3s 5ms/step - loss: 0.3148 - acc: 0.8733\n",
      "\n",
      "Epoch 00028: acc improved from 0.87167 to 0.87333, saving model to weights-improvement.hdf5\n",
      "Epoch 29/50\n",
      "600/600 [==============================] - 3s 5ms/step - loss: 0.3145 - acc: 0.8683\n",
      "\n",
      "Epoch 00029: acc did not improve from 0.87333\n",
      "Epoch 30/50\n",
      "600/600 [==============================] - 3s 5ms/step - loss: 0.3073 - acc: 0.8783\n",
      "\n",
      "Epoch 00030: acc improved from 0.87333 to 0.87833, saving model to weights-improvement.hdf5\n",
      "Epoch 31/50\n",
      "600/600 [==============================] - 3s 5ms/step - loss: 0.2730 - acc: 0.8933\n",
      "\n",
      "Epoch 00031: acc improved from 0.87833 to 0.89333, saving model to weights-improvement.hdf5\n",
      "Epoch 32/50\n",
      "600/600 [==============================] - 4s 6ms/step - loss: 0.2852 - acc: 0.8817\n",
      "\n",
      "Epoch 00032: acc did not improve from 0.89333\n",
      "Epoch 33/50\n",
      "600/600 [==============================] - 4s 6ms/step - loss: 0.2599 - acc: 0.9050\n",
      "\n",
      "Epoch 00033: acc improved from 0.89333 to 0.90500, saving model to weights-improvement.hdf5\n",
      "Epoch 34/50\n",
      "600/600 [==============================] - 3s 6ms/step - loss: 0.2399 - acc: 0.9217\n",
      "\n",
      "Epoch 00034: acc improved from 0.90500 to 0.92167, saving model to weights-improvement.hdf5\n",
      "Epoch 35/50\n",
      "600/600 [==============================] - 3s 5ms/step - loss: 0.2539 - acc: 0.8867\n",
      "\n",
      "Epoch 00035: acc did not improve from 0.92167\n",
      "Epoch 36/50\n",
      "600/600 [==============================] - 3s 5ms/step - loss: 0.2131 - acc: 0.9250\n",
      "\n",
      "Epoch 00036: acc improved from 0.92167 to 0.92500, saving model to weights-improvement.hdf5\n",
      "Epoch 37/50\n",
      "600/600 [==============================] - 3s 5ms/step - loss: 0.2111 - acc: 0.9150\n",
      "\n",
      "Epoch 00037: acc did not improve from 0.92500\n",
      "Epoch 38/50\n",
      "600/600 [==============================] - 3s 5ms/step - loss: 0.1892 - acc: 0.9350\n",
      "\n",
      "Epoch 00038: acc improved from 0.92500 to 0.93500, saving model to weights-improvement.hdf5\n",
      "Epoch 39/50\n",
      "600/600 [==============================] - 3s 5ms/step - loss: 0.1944 - acc: 0.9217\n",
      "\n",
      "Epoch 00039: acc did not improve from 0.93500\n",
      "Epoch 40/50\n",
      "600/600 [==============================] - 3s 5ms/step - loss: 0.1987 - acc: 0.9183\n",
      "\n",
      "Epoch 00040: acc did not improve from 0.93500\n",
      "Epoch 41/50\n",
      "600/600 [==============================] - 3s 5ms/step - loss: 0.1793 - acc: 0.9367\n",
      "\n",
      "Epoch 00041: acc improved from 0.93500 to 0.93667, saving model to weights-improvement.hdf5\n",
      "Epoch 42/50\n",
      "600/600 [==============================] - 3s 5ms/step - loss: 0.1988 - acc: 0.9333\n",
      "\n",
      "Epoch 00042: acc did not improve from 0.93667\n",
      "Epoch 43/50\n",
      "600/600 [==============================] - 3s 5ms/step - loss: 0.1827 - acc: 0.9300\n",
      "\n",
      "Epoch 00043: acc did not improve from 0.93667\n",
      "Epoch 44/50\n",
      "600/600 [==============================] - 3s 6ms/step - loss: 0.1932 - acc: 0.9167\n",
      "\n",
      "Epoch 00044: acc did not improve from 0.93667\n",
      "Epoch 45/50\n",
      "600/600 [==============================] - 3s 5ms/step - loss: 0.1924 - acc: 0.9167\n",
      "\n",
      "Epoch 00045: acc did not improve from 0.93667\n",
      "Epoch 46/50\n",
      "600/600 [==============================] - 4s 6ms/step - loss: 0.1860 - acc: 0.9233\n",
      "\n",
      "Epoch 00046: acc did not improve from 0.93667\n",
      "Epoch 47/50\n",
      "600/600 [==============================] - 3s 6ms/step - loss: 0.1585 - acc: 0.9433\n",
      "\n",
      "Epoch 00047: acc improved from 0.93667 to 0.94333, saving model to weights-improvement.hdf5\n",
      "Epoch 48/50\n",
      "600/600 [==============================] - 3s 6ms/step - loss: 0.1347 - acc: 0.9533\n",
      "\n",
      "Epoch 00048: acc improved from 0.94333 to 0.95333, saving model to weights-improvement.hdf5\n",
      "Epoch 49/50\n"
     ]
    },
    {
     "name": "stdout",
     "output_type": "stream",
     "text": [
      "600/600 [==============================] - 4s 6ms/step - loss: 0.1254 - acc: 0.9667\n",
      "\n",
      "Epoch 00049: acc improved from 0.95333 to 0.96667, saving model to weights-improvement.hdf5\n",
      "Epoch 50/50\n",
      "600/600 [==============================] - 4s 6ms/step - loss: 0.1174 - acc: 0.9583\n",
      "\n",
      "Epoch 00050: acc did not improve from 0.96667\n",
      "88/88 [==============================] - 0s 3ms/step\n",
      "Test loss: 0.1347023844718933\n",
      "Test accuracy: 0.9431818127632141\n"
     ]
    }
   ],
   "source": [
    "optimazerAdam = keras.optimizers.Adam(lr=0.0001, epsilon=None, decay=0.0, amsgrad=False)\n",
    "\n",
    "model.compile(loss='binary_crossentropy',\n",
    "              optimizer=\"Adam\",\n",
    "              metrics=['acc'])#accuracy\n",
    "\n",
    "history = model.fit(x_train, y_train,\n",
    "          epochs=50,\n",
    "          batch_size=128,\n",
    "          callbacks = callbacks_list)\n",
    "\n",
    "score = model.evaluate(x_test, y_test, batch_size=128)\n",
    "print('Test loss:', score[0])\n",
    "print('Test accuracy:', score[1])\n",
    "## tensorboard --logdir C:\\Users\\Jakub\\praca_inzynierska\\Scissors_falling\\logs --port=8080"
   ]
  },
  {
   "cell_type": "code",
   "execution_count": null,
   "metadata": {},
   "outputs": [],
   "source": [
    "print(history.history)"
   ]
  },
  {
   "cell_type": "code",
   "execution_count": null,
   "metadata": {},
   "outputs": [],
   "source": [
    "model.save_weights(\"model_128_7ms.h5\")\n",
    "print(\"Saved model to disk\")"
   ]
  },
  {
   "cell_type": "code",
   "execution_count": 15,
   "metadata": {},
   "outputs": [],
   "source": [
    "def plot_confusion_matrix(cm, classes,\n",
    "                          normalize=False,\n",
    "                          title='Confusion matrix',\n",
    "                          cmap=plt.cm.Blues):\n",
    "    \"\"\"\n",
    "    This function prints and plots the confusion matrix.\n",
    "    Normalization can be applied by setting `normalize=True`.\n",
    "    \"\"\"\n",
    "    if normalize:\n",
    "        cm = cm.astype('float') / cm.sum(axis=1)[:, np.newaxis]\n",
    "        print(\"Normalized confusion matrix\")\n",
    "    else:\n",
    "        print('Confusion matrix, without normalization')\n",
    "    plt.imshow(cm, interpolation='nearest', cmap=cmap)\n",
    "    plt.title(title)\n",
    "    plt.colorbar()\n",
    "    tick_marks = np.arange(len(classes))\n",
    "    plt.xticks(tick_marks, classes, rotation=45)\n",
    "    plt.yticks(tick_marks, classes)\n",
    "\n",
    "    fmt = '.2f' if normalize else 'd'\n",
    "    thresh = cm.max() / 2.\n",
    "    for i, j in itertools.product(range(cm.shape[0]), range(cm.shape[1])):\n",
    "        plt.text(j, i, format(cm[i, j], fmt),\n",
    "                 horizontalalignment=\"center\",\n",
    "                 color=\"white\" if cm[i, j] > thresh else \"black\")\n",
    "\n",
    "    plt.ylabel('True label')\n",
    "    plt.xlabel('Predicted label')\n",
    "    plt.tight_layout()"
   ]
  },
  {
   "cell_type": "code",
   "execution_count": 17,
   "metadata": {},
   "outputs": [
    {
     "data": {
      "image/png": "[encoded data removed]",
      "text/plain": [
       "<Figure size 432x288 with 1 Axes>"
      ]
     },
     "metadata": {},
     "output_type": "display_data"
    },
    {
     "name": "stdout",
     "output_type": "stream",
     "text": [
      "[[246   9]\n",
      " [  2 343]]\n",
      "Confusion matrix, without normalization\n",
      "Recall/Czułość: 0.992 Precision/Precyzja: 0.965 F-Score: 0.978\n"
     ]
    },
    {
     "data": {
      "image/png": "[encoded data removed]",
      "text/plain": [
       "<Figure size 432x288 with 2 Axes>"
      ]
     },
     "metadata": {},
     "output_type": "display_data"
    }
   ],
   "source": [
    "prediction = []\n",
    "prediction_label =[]\n",
    "prediction_predicted = []\n",
    "for i in range(0,len(y_train)):\n",
    "    prediction.append(model.predict(x_train[i].reshape(1,fft_size,cols,1))[0][0])\n",
    "    prediction_label.append(y_train[i])\n",
    "    prediction_predicted.append(round(prediction[i]))\n",
    "    \n",
    "        \n",
    "#print(prediction,prediction_label)\n",
    "#for check_item in dataset_normalized:\n",
    "#   prediction.append(model.predict(check_item[0].reshape(1,128,128,1))[0][0])\n",
    "#   prediction_label.append(check_item[1])\n",
    "#    if(prediction[-1]>0.5):\n",
    "#       prediction_predicted.append(\"128_7ms/ok\")\n",
    "#    else:\n",
    "#        prediction_predicted.append(\"128_7ms/nok\")\n",
    "        \n",
    "plt.hist(prediction)  # arguments are passed to np.histogram\n",
    "plt.title(\"Prediction\")\n",
    "plt.show()\n",
    "matrix = confusion_matrix(y_pred=prediction_predicted,y_true=prediction_label)\n",
    "print(matrix)\n",
    "plt.figure()\n",
    "plot_confusion_matrix(matrix, classes=[\"Pęknięcie\",'Brak pęknięcia'],\n",
    "                      title='Confusion matrix, without normalization')\n",
    "recall = (matrix[0][0])/(matrix[0][0]+matrix[1][0])\n",
    "precision = (matrix[0][0])/(matrix[0][0]+matrix[0][1])\n",
    "score = 2/((1/recall) + (1/precision))\n",
    "print(\"Recall/Czułość: {0:0.3f}\".format(recall),\"Precision/Precyzja: {0:0.3f}\".format(precision),\"F-Score: {0:0.3f}\".format(score))"
   ]
  },
  {
   "cell_type": "code",
   "execution_count": null,
   "metadata": {},
   "outputs": [],
   "source": []
  },
  {
   "cell_type": "code",
   "execution_count": null,
   "metadata": {},
   "outputs": [],
   "source": []
  }
 ],
 "metadata": {
  "kernelspec": {
   "display_name": "Python 3",
   "language": "python",
   "name": "python3"
  },
  "language_info": {
   "codemirror_mode": {
    "name": "ipython",
    "version": 3
   },
   "file_extension": ".py",
   "mimetype": "text/x-python",
   "name": "python",
   "nbconvert_exporter": "python",
   "pygments_lexer": "ipython3",
   "version": "3.6.5"
  }
 },
 "nbformat": 4,
 "nbformat_minor": 2
}
